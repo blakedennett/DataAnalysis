{
 "cells": [
  {
   "cell_type": "code",
   "execution_count": 2,
   "metadata": {},
   "outputs": [],
   "source": [
    "import pandas as pd\n",
    "import os\n",
    "import threading\n",
    "from sklearn.ensemble import GradientBoostingRegressor\n",
    "import altair as alt\n",
    "import numpy as np\n",
    "import yfinance as yf\n",
    "from sklearn.model_selection import train_test_split\n",
    "from sklearn.metrics import mean_squared_error, r2_score"
   ]
  },
  {
   "cell_type": "code",
   "execution_count": 3,
   "metadata": {},
   "outputs": [],
   "source": [
    "# https://www.kaggle.com/datasets\n",
    "\n",
    "a_i_directory_path = r\"C:\\Users\\Blake Dennett\\Downloads\\Spring2023\\appliedProgramming\\Data\\stock_market_data\\sp500\\csv\"\n",
    "with_slash = r\"C:\\Users\\Blake Dennett\\Downloads\\Spring2023\\appliedProgramming\\Data\\stock_market_data\\sp500\\csv\\'\"\n",
    "\n",
    "d_i_directory_path = r\"C:\\Users\\Blake Dennett\\Downloads\\Spring2023\\appliedProgramming\\Data\\stock_market_data\\sp500\\csv\\d-i\"\n",
    "with_slash4 = r\"C:\\Users\\Blake Dennett\\Downloads\\Spring2023\\appliedProgramming\\Data\\stock_market_data\\sp500\\csv\\d-i\\'\"\n",
    "\n",
    "j_p_directory_path = r\"C:\\Users\\Blake Dennett\\Downloads\\Spring2023\\appliedProgramming\\Data\\stock_market_data\\sp500\\csv\\j-p\"\n",
    "with_slash2 = r\"C:\\Users\\Blake Dennett\\Downloads\\Spring2023\\appliedProgramming\\Data\\stock_market_data\\sp500\\csv\\j-p\\'\"\n",
    "\n",
    "q_z_directory_path = r\"C:\\Users\\Blake Dennett\\Downloads\\Spring2023\\appliedProgramming\\Data\\stock_market_data\\sp500\\csv\\j-p\\q-z\"\n",
    "with_slash3 = r\"C:\\Users\\Blake Dennett\\Downloads\\Spring2023\\appliedProgramming\\Data\\stock_market_data\\sp500\\csv\\j-p\\q-z\\'\"\n",
    "\n",
    "df = pd.DataFrame()\n",
    "df2 = pd.DataFrame()\n",
    "df3 = pd.DataFrame()\n",
    "df4 = pd.DataFrame()\n",
    "dataframes = []"
   ]
  },
  {
   "cell_type": "code",
   "execution_count": 4,
   "metadata": {},
   "outputs": [],
   "source": [
    "# function to combine two datasets\n",
    "def combine(dat1, dat2):\n",
    "    to_combine = [dat1, dat2]\n",
    "    return pd.concat(to_combine)\n",
    "\n",
    "\n",
    "def get_company_name(id):\n",
    "    msft = yf.Ticker(id)\n",
    "\n",
    "    company_name = msft.info['longName']\n",
    "    return company_name"
   ]
  },
  {
   "cell_type": "code",
   "execution_count": 5,
   "metadata": {},
   "outputs": [
    {
     "name": "stdout",
     "output_type": "stream",
     "text": [
      "3258423\n"
     ]
    }
   ],
   "source": [
    "# function to loop through and open files\n",
    "def files_to_dataframe(directory_path, with_slash, df):\n",
    "    for filename in os.listdir(directory_path):\n",
    "        if filename == 'j-p'or filename == 'q-z' or filename == 'd-i':\n",
    "            continue\n",
    "        directory = with_slash[:-1]\n",
    "        path = directory + filename\n",
    "        with open(path, 'r') as file:\n",
    "            dat = pd.read_csv(file)\n",
    "        dat['company_id'] = filename[:len(filename)-4]\n",
    "        df = combine(df, dat)\n",
    "    dataframes.append(df)\n",
    "\n",
    "# loops through the folder broken up into four threads that run concurently \n",
    "thread1 = threading.Thread(target=files_to_dataframe, args=(a_i_directory_path, with_slash, df))\n",
    "thread2 = threading.Thread(target=files_to_dataframe, args=(j_p_directory_path, with_slash2, df2))\n",
    "thread3 = threading.Thread(target=files_to_dataframe, args=(q_z_directory_path, with_slash3, df3))\n",
    "thread4 = threading.Thread(target=files_to_dataframe, args=(d_i_directory_path, with_slash4, df4))\n",
    "\n",
    "thread1.start()\n",
    "thread2.start()\n",
    "thread3.start()\n",
    "thread4.start()\n",
    "thread1.join()\n",
    "thread2.join()\n",
    "thread3.join()\n",
    "thread4.join()\n",
    "\n",
    "# combining the dataframes from each of the four threads\n",
    "df = combine(dataframes[0], dataframes[1])\n",
    "df2 = combine(dataframes[2], dataframes[3])\n",
    "df = combine(df, df2)\n",
    "df.dropna(inplace=True)\n",
    "print(len(df))\n",
    "\n",
    "# df['company'] = df.apply(get_company_name, axis=1)\n",
    "# df.drop(columns=['company_id'])"
   ]
  },
  {
   "attachments": {},
   "cell_type": "markdown",
   "metadata": {},
   "source": [
    "## What is the biggest difference in the low and high?"
   ]
  },
  {
   "cell_type": "code",
   "execution_count": null,
   "metadata": {},
   "outputs": [
    {
     "name": "stdout",
     "output_type": "stream",
     "text": [
      "The biggest difference in high to low is 53156.0 from Berkshire Hathaway Inc.\n",
      "The high was 468795.00 and the low was 415639.00\n",
      "The date was 27-10-2022\n"
     ]
    }
   ],
   "source": [
    "# ==================================================== DATA ANALYSIS =========================================\n",
    "\n",
    "df['difference'] = df.apply(lambda x: x.High - x.Low, axis=1)\n",
    "\n",
    "max = df[\"difference\"].max()\n",
    "df.set_index(\"difference\", inplace=True)\n",
    "\n",
    "high = df.loc[max,'High']\n",
    "low = df.loc[max,'Low']\n",
    "company = get_company_name(df.loc[max,'company_id'])\n",
    "date = df.loc[max, 'Date']\n",
    "\n",
    "print(f\"The biggest difference in high to low is {max} from {company}\")\n",
    "print(f'The high was {high:.2f} and the low was {low:.2f}')\n",
    "print(f'The date was {date}')\n",
    "\n",
    "df.reset_index(inplace=True)"
   ]
  },
  {
   "attachments": {},
   "cell_type": "markdown",
   "metadata": {},
   "source": [
    "## What is the largest difference by percentage?"
   ]
  },
  {
   "cell_type": "code",
   "execution_count": null,
   "metadata": {},
   "outputs": [
    {
     "name": "stdout",
     "output_type": "stream",
     "text": [
      "The biggest difference by percent from high to low is 99.98492462247178 from Formcap Corp.\n",
      "The high was 1.99 and the low was 0.0003\n",
      "The date was 23-11-2020\n"
     ]
    }
   ],
   "source": [
    "df['percent_difference'] = df.apply(lambda x: (x.difference / x.High) * 100, axis=1)\n",
    "max = df['percent_difference'].max()\n",
    "\n",
    "df.set_index(\"percent_difference\", inplace=True)\n",
    "company = df.loc[max, 'company_id']\n",
    "high = df.loc[max, 'High']\n",
    "low = df.loc[max, 'Low']\n",
    "date = df.loc[max, 'Date']\n",
    "\n",
    "print(f\"The biggest difference by percent from high to low is {max} from {get_company_name(company)}\")\n",
    "print(f'The high was {high:.2f} and the low was {low:.4f}')\n",
    "print(f'The date was {date}')\n",
    "\n",
    "df.reset_index(inplace=True)\n",
    "# print(df.head())"
   ]
  },
  {
   "attachments": {},
   "cell_type": "markdown",
   "metadata": {},
   "source": [
    "## What is the oldest and newest date?"
   ]
  },
  {
   "cell_type": "code",
   "execution_count": null,
   "metadata": {},
   "outputs": [
    {
     "name": "stderr",
     "output_type": "stream",
     "text": [
      "C:\\Users\\Blake Dennett\\AppData\\Local\\Temp\\ipykernel_772\\4159101142.py:1: UserWarning: Parsing dates in DD/MM/YYYY format when dayfirst=False (the default) was specified. This may lead to inconsistently parsed dates! Specify a format to ensure consistent parsing.\n",
      "  df['Date'] = pd.to_datetime(df['Date'])\n"
     ]
    },
    {
     "name": "stdout",
     "output_type": "stream",
     "text": [
      " The oldest date is 1970-01-04 00:00:00\n",
      "The newest date is 2022-12-12 00:00:00\n",
      "   percent_difference  difference       Date        Low       Open     Volume  \\\n",
      "0            5.540352    3.988998 2015-02-01  68.010002  69.000000  4218700.0   \n",
      "1            5.946712    4.240005 2015-05-01  67.059998  71.230003  4534700.0   \n",
      "2            7.309895    4.969997 2015-06-01  63.020000  67.930000  3749400.0   \n",
      "3            4.868190    3.250004 2015-07-01  63.509998  65.010002  2122600.0   \n",
      "4            3.673418    2.560005 2015-08-01  67.129997  67.949997  2510300.0   \n",
      "\n",
      "        High      Close  Adjusted Close company_id    yr  \n",
      "0  71.999001  70.400002       70.400002       QRVO  2015  \n",
      "1  71.300003  67.629997       67.629997       QRVO  2015  \n",
      "2  67.989998  64.669998       64.669998       QRVO  2015  \n",
      "3  66.760002  66.650002       66.650002       QRVO  2015  \n",
      "4  69.690002  67.690002       67.690002       QRVO  2015  \n"
     ]
    }
   ],
   "source": [
    "df['Date'] = pd.to_datetime(df['Date'])\n",
    "df['yr'] = pd.DatetimeIndex(df['Date']).year\n",
    "oldest = df['Date'].min()\n",
    "newest = df['Date'].max()\n",
    "print(f' The oldest date is {oldest}')\n",
    "print(f'The newest date is {newest}')\n",
    "print(df.head())"
   ]
  },
  {
   "attachments": {},
   "cell_type": "markdown",
   "metadata": {},
   "source": [
    "# Machine Learning to Guess the Close"
   ]
  },
  {
   "attachments": {},
   "cell_type": "markdown",
   "metadata": {},
   "source": [
    "## Vanilla Tree"
   ]
  },
  {
   "cell_type": "code",
   "execution_count": null,
   "metadata": {},
   "outputs": [
    {
     "name": "stdout",
     "output_type": "stream",
     "text": [
      "The r^2 is: 0.9999138806589019 and the RMSE is: 6645.893880489394\n"
     ]
    }
   ],
   "source": [
    "df.rename(columns={'difference':' difference', 'percent_difference':' percent_difference'}, inplace=True)\n",
    "X = df[[' difference', ' percent_difference', 'High', 'Low', 'Open', 'Volume']]\n",
    "y = df['Close']\n",
    "x_train, x_test, y_train, y_test = train_test_split(X, y, test_size=0.3, random_state=25)\n",
    "reg = GradientBoostingRegressor(random_state=25)\n",
    "reg.fit(x_train, y_train)\n",
    "y_predictions = reg.predict(x_test)\n",
    "r2 = r2_score(y_test, y_predictions)\n",
    "rmse = mean_squared_error(y_test, y_predictions)\n",
    "print(f'The r^2 is: {r2} and the RMSE is: {rmse}')"
   ]
  },
  {
   "attachments": {},
   "cell_type": "markdown",
   "metadata": {},
   "source": [
    "## Visualizations"
   ]
  },
  {
   "cell_type": "code",
   "execution_count": 9,
   "metadata": {},
   "outputs": [
    {
     "name": "stdout",
     "output_type": "stream",
     "text": [
      "         Date        Low       Open     Volume       High      Close  \\\n",
      "0  02-01-2015  68.010002  69.000000  4218700.0  71.999001  70.400002   \n",
      "1  05-01-2015  67.059998  71.230003  4534700.0  71.300003  67.629997   \n",
      "2  06-01-2015  63.020000  67.930000  3749400.0  67.989998  64.669998   \n",
      "3  07-01-2015  63.509998  65.010002  2122600.0  66.760002  66.650002   \n",
      "4  08-01-2015  67.129997  67.949997  2510300.0  69.690002  67.690002   \n",
      "\n",
      "   Adjusted Close company_id  \n",
      "0       70.400002       QRVO  \n",
      "1       67.629997       QRVO  \n",
      "2       64.669998       QRVO  \n",
      "3       66.650002       QRVO  \n",
      "4       67.690002       QRVO  \n"
     ]
    },
    {
     "data": {
      "text/plain": [
       "2397141"
      ]
     },
     "execution_count": 9,
     "metadata": {},
     "output_type": "execute_result"
    }
   ],
   "source": [
    "\n",
    "alt.data_transformers.disable_max_rows()\n",
    "print(df.head())\n",
    "id_df = df.query('Close < 50')\n",
    "id_df.head()\n",
    "len(id_df)"
   ]
  },
  {
   "attachments": {},
   "cell_type": "markdown",
   "metadata": {},
   "source": [
    "# Company Size Top Ten"
   ]
  },
  {
   "cell_type": "code",
   "execution_count": null,
   "metadata": {},
   "outputs": [],
   "source": [
    "# limit the df by size to speed up computation\n",
    "# get volume * open\n",
    "# get avg of that by company, make a new dataframe with only one row per company\n",
    "# plot x-axis as company name and \"avg size\" as y-axis"
   ]
  },
  {
   "cell_type": "code",
   "execution_count": null,
   "metadata": {},
   "outputs": [],
   "source": [
    "top_ten_df = df.query('Open > 100')\n",
    "top_ten_df.drop(columns=['Date', 'Adjusted Close', 'Low', 'High', 'Close'], inplace=True)\n",
    "top_ten_df['size'] = top_ten_df.apply(lambda x: round((x.Volume * x.Open) / 1000, 2), axis=1)\n",
    "top_ten_df.head()\n",
    "top_ten_df['company_id'].unique()"
   ]
  },
  {
   "cell_type": "code",
   "execution_count": 72,
   "metadata": {},
   "outputs": [
    {
     "ename": "HTTPError",
     "evalue": "404 Client Error: Not Found for url: https://query2.finance.yahoo.com/v10/finance/quoteSummary/SIVB?modules=summaryProfile%2CfinancialData%2CquoteType%2CdefaultKeyStatistics%2CassetProfile%2CsummaryDetail&ssl=true",
     "output_type": "error",
     "traceback": [
      "\u001b[1;31m---------------------------------------------------------------------------\u001b[0m",
      "\u001b[1;31mHTTPError\u001b[0m                                 Traceback (most recent call last)",
      "\u001b[1;32mc:\\Users\\Blake Dennett\\Downloads\\Spring2023\\appliedProgramming\\DataAnalysis\\DataAnalysis\\analysis.ipynb Cell 19\u001b[0m in \u001b[0;36m2\n\u001b[0;32m     <a href='vscode-notebook-cell:/c%3A/Users/Blake%20Dennett/Downloads/Spring2023/appliedProgramming/DataAnalysis/DataAnalysis/analysis.ipynb#X24sZmlsZQ%3D%3D?line=23'>24</a>\u001b[0m     new_dict[\u001b[39m'\u001b[39m\u001b[39msize\u001b[39m\u001b[39m'\u001b[39m]\u001b[39m.\u001b[39mappend(num)\n\u001b[0;32m     <a href='vscode-notebook-cell:/c%3A/Users/Blake%20Dennett/Downloads/Spring2023/appliedProgramming/DataAnalysis/DataAnalysis/analysis.ipynb#X24sZmlsZQ%3D%3D?line=25'>26</a>\u001b[0m size_df \u001b[39m=\u001b[39m pd\u001b[39m.\u001b[39mDataFrame\u001b[39m.\u001b[39mfrom_dict(new_dict)\n\u001b[1;32m---> <a href='vscode-notebook-cell:/c%3A/Users/Blake%20Dennett/Downloads/Spring2023/appliedProgramming/DataAnalysis/DataAnalysis/analysis.ipynb#X24sZmlsZQ%3D%3D?line=27'>28</a>\u001b[0m size_df[\u001b[39m'\u001b[39m\u001b[39mcompany\u001b[39m\u001b[39m'\u001b[39m] \u001b[39m=\u001b[39m size_df[\u001b[39m'\u001b[39;49m\u001b[39mid\u001b[39;49m\u001b[39m'\u001b[39;49m]\u001b[39m.\u001b[39;49mapply(get_company_name)\n\u001b[0;32m     <a href='vscode-notebook-cell:/c%3A/Users/Blake%20Dennett/Downloads/Spring2023/appliedProgramming/DataAnalysis/DataAnalysis/analysis.ipynb#X24sZmlsZQ%3D%3D?line=30'>31</a>\u001b[0m size_df\u001b[39m.\u001b[39mdrop(columns\u001b[39m=\u001b[39m[\u001b[39m'\u001b[39m\u001b[39mid\u001b[39m\u001b[39m'\u001b[39m])\n",
      "File \u001b[1;32mc:\\Users\\Blake Dennett\\AppData\\Local\\Programs\\Python\\Python310\\lib\\site-packages\\pandas\\core\\series.py:4771\u001b[0m, in \u001b[0;36mSeries.apply\u001b[1;34m(self, func, convert_dtype, args, **kwargs)\u001b[0m\n\u001b[0;32m   4661\u001b[0m \u001b[39mdef\u001b[39;00m \u001b[39mapply\u001b[39m(\n\u001b[0;32m   4662\u001b[0m     \u001b[39mself\u001b[39m,\n\u001b[0;32m   4663\u001b[0m     func: AggFuncType,\n\u001b[1;32m   (...)\u001b[0m\n\u001b[0;32m   4666\u001b[0m     \u001b[39m*\u001b[39m\u001b[39m*\u001b[39mkwargs,\n\u001b[0;32m   4667\u001b[0m ) \u001b[39m-\u001b[39m\u001b[39m>\u001b[39m DataFrame \u001b[39m|\u001b[39m Series:\n\u001b[0;32m   4668\u001b[0m     \u001b[39m\"\"\"\u001b[39;00m\n\u001b[0;32m   4669\u001b[0m \u001b[39m    Invoke function on values of Series.\u001b[39;00m\n\u001b[0;32m   4670\u001b[0m \n\u001b[1;32m   (...)\u001b[0m\n\u001b[0;32m   4769\u001b[0m \u001b[39m    dtype: float64\u001b[39;00m\n\u001b[0;32m   4770\u001b[0m \u001b[39m    \"\"\"\u001b[39;00m\n\u001b[1;32m-> 4771\u001b[0m     \u001b[39mreturn\u001b[39;00m SeriesApply(\u001b[39mself\u001b[39;49m, func, convert_dtype, args, kwargs)\u001b[39m.\u001b[39;49mapply()\n",
      "File \u001b[1;32mc:\\Users\\Blake Dennett\\AppData\\Local\\Programs\\Python\\Python310\\lib\\site-packages\\pandas\\core\\apply.py:1105\u001b[0m, in \u001b[0;36mSeriesApply.apply\u001b[1;34m(self)\u001b[0m\n\u001b[0;32m   1102\u001b[0m     \u001b[39mreturn\u001b[39;00m \u001b[39mself\u001b[39m\u001b[39m.\u001b[39mapply_str()\n\u001b[0;32m   1104\u001b[0m \u001b[39m# self.f is Callable\u001b[39;00m\n\u001b[1;32m-> 1105\u001b[0m \u001b[39mreturn\u001b[39;00m \u001b[39mself\u001b[39;49m\u001b[39m.\u001b[39;49mapply_standard()\n",
      "File \u001b[1;32mc:\\Users\\Blake Dennett\\AppData\\Local\\Programs\\Python\\Python310\\lib\\site-packages\\pandas\\core\\apply.py:1156\u001b[0m, in \u001b[0;36mSeriesApply.apply_standard\u001b[1;34m(self)\u001b[0m\n\u001b[0;32m   1154\u001b[0m     \u001b[39melse\u001b[39;00m:\n\u001b[0;32m   1155\u001b[0m         values \u001b[39m=\u001b[39m obj\u001b[39m.\u001b[39mastype(\u001b[39mobject\u001b[39m)\u001b[39m.\u001b[39m_values\n\u001b[1;32m-> 1156\u001b[0m         mapped \u001b[39m=\u001b[39m lib\u001b[39m.\u001b[39;49mmap_infer(\n\u001b[0;32m   1157\u001b[0m             values,\n\u001b[0;32m   1158\u001b[0m             f,\n\u001b[0;32m   1159\u001b[0m             convert\u001b[39m=\u001b[39;49m\u001b[39mself\u001b[39;49m\u001b[39m.\u001b[39;49mconvert_dtype,\n\u001b[0;32m   1160\u001b[0m         )\n\u001b[0;32m   1162\u001b[0m \u001b[39mif\u001b[39;00m \u001b[39mlen\u001b[39m(mapped) \u001b[39mand\u001b[39;00m \u001b[39misinstance\u001b[39m(mapped[\u001b[39m0\u001b[39m], ABCSeries):\n\u001b[0;32m   1163\u001b[0m     \u001b[39m# GH#43986 Need to do list(mapped) in order to get treated as nested\u001b[39;00m\n\u001b[0;32m   1164\u001b[0m     \u001b[39m#  See also GH#25959 regarding EA support\u001b[39;00m\n\u001b[0;32m   1165\u001b[0m     \u001b[39mreturn\u001b[39;00m obj\u001b[39m.\u001b[39m_constructor_expanddim(\u001b[39mlist\u001b[39m(mapped), index\u001b[39m=\u001b[39mobj\u001b[39m.\u001b[39mindex)\n",
      "File \u001b[1;32mc:\\Users\\Blake Dennett\\AppData\\Local\\Programs\\Python\\Python310\\lib\\site-packages\\pandas\\_libs\\lib.pyx:2918\u001b[0m, in \u001b[0;36mpandas._libs.lib.map_infer\u001b[1;34m()\u001b[0m\n",
      "\u001b[1;32mc:\\Users\\Blake Dennett\\Downloads\\Spring2023\\appliedProgramming\\DataAnalysis\\DataAnalysis\\analysis.ipynb Cell 19\u001b[0m in \u001b[0;36m1\n\u001b[0;32m      <a href='vscode-notebook-cell:/c%3A/Users/Blake%20Dennett/Downloads/Spring2023/appliedProgramming/DataAnalysis/DataAnalysis/analysis.ipynb#X24sZmlsZQ%3D%3D?line=6'>7</a>\u001b[0m \u001b[39mdef\u001b[39;00m \u001b[39mget_company_name\u001b[39m(\u001b[39mid\u001b[39m):\n\u001b[0;32m      <a href='vscode-notebook-cell:/c%3A/Users/Blake%20Dennett/Downloads/Spring2023/appliedProgramming/DataAnalysis/DataAnalysis/analysis.ipynb#X24sZmlsZQ%3D%3D?line=7'>8</a>\u001b[0m     msft \u001b[39m=\u001b[39m yf\u001b[39m.\u001b[39mTicker(\u001b[39mid\u001b[39m)\n\u001b[1;32m---> <a href='vscode-notebook-cell:/c%3A/Users/Blake%20Dennett/Downloads/Spring2023/appliedProgramming/DataAnalysis/DataAnalysis/analysis.ipynb#X24sZmlsZQ%3D%3D?line=9'>10</a>\u001b[0m     company_name \u001b[39m=\u001b[39m msft\u001b[39m.\u001b[39;49minfo[\u001b[39m'\u001b[39m\u001b[39mlongName\u001b[39m\u001b[39m'\u001b[39m]\n\u001b[0;32m     <a href='vscode-notebook-cell:/c%3A/Users/Blake%20Dennett/Downloads/Spring2023/appliedProgramming/DataAnalysis/DataAnalysis/analysis.ipynb#X24sZmlsZQ%3D%3D?line=10'>11</a>\u001b[0m     \u001b[39mreturn\u001b[39;00m company_name\n",
      "File \u001b[1;32mc:\\Users\\Blake Dennett\\AppData\\Local\\Programs\\Python\\Python310\\lib\\site-packages\\yfinance\\ticker.py:138\u001b[0m, in \u001b[0;36mTicker.info\u001b[1;34m(self)\u001b[0m\n\u001b[0;32m    136\u001b[0m \u001b[39m@property\u001b[39m\n\u001b[0;32m    137\u001b[0m \u001b[39mdef\u001b[39;00m \u001b[39minfo\u001b[39m(\u001b[39mself\u001b[39m) \u001b[39m-\u001b[39m\u001b[39m>\u001b[39m \u001b[39mdict\u001b[39m:\n\u001b[1;32m--> 138\u001b[0m     \u001b[39mreturn\u001b[39;00m \u001b[39mself\u001b[39;49m\u001b[39m.\u001b[39;49mget_info()\n",
      "File \u001b[1;32mc:\\Users\\Blake Dennett\\AppData\\Local\\Programs\\Python\\Python310\\lib\\site-packages\\yfinance\\base.py:1020\u001b[0m, in \u001b[0;36mTickerBase.get_info\u001b[1;34m(self, proxy)\u001b[0m\n\u001b[0;32m   1018\u001b[0m \u001b[39mdef\u001b[39;00m \u001b[39mget_info\u001b[39m(\u001b[39mself\u001b[39m, proxy\u001b[39m=\u001b[39m\u001b[39mNone\u001b[39;00m) \u001b[39m-\u001b[39m\u001b[39m>\u001b[39m \u001b[39mdict\u001b[39m:\n\u001b[0;32m   1019\u001b[0m     \u001b[39mself\u001b[39m\u001b[39m.\u001b[39m_quote\u001b[39m.\u001b[39mproxy \u001b[39m=\u001b[39m proxy\n\u001b[1;32m-> 1020\u001b[0m     data \u001b[39m=\u001b[39m \u001b[39mself\u001b[39;49m\u001b[39m.\u001b[39;49m_quote\u001b[39m.\u001b[39;49minfo\n\u001b[0;32m   1021\u001b[0m     \u001b[39mreturn\u001b[39;00m data\n",
      "File \u001b[1;32mc:\\Users\\Blake Dennett\\AppData\\Local\\Programs\\Python\\Python310\\lib\\site-packages\\yfinance\\scrapers\\quote.py:555\u001b[0m, in \u001b[0;36mQuote.info\u001b[1;34m(self)\u001b[0m\n\u001b[0;32m    551\u001b[0m \u001b[39m@property\u001b[39m\n\u001b[0;32m    552\u001b[0m \u001b[39mdef\u001b[39;00m \u001b[39minfo\u001b[39m(\u001b[39mself\u001b[39m) \u001b[39m-\u001b[39m\u001b[39m>\u001b[39m \u001b[39mdict\u001b[39m:\n\u001b[0;32m    553\u001b[0m     \u001b[39mif\u001b[39;00m \u001b[39mself\u001b[39m\u001b[39m.\u001b[39m_info \u001b[39mis\u001b[39;00m \u001b[39mNone\u001b[39;00m:\n\u001b[0;32m    554\u001b[0m         \u001b[39m# self._scrape(self.proxy)  # decrypt broken\u001b[39;00m\n\u001b[1;32m--> 555\u001b[0m         \u001b[39mself\u001b[39;49m\u001b[39m.\u001b[39;49m_fetch(\u001b[39mself\u001b[39;49m\u001b[39m.\u001b[39;49mproxy)\n\u001b[0;32m    557\u001b[0m         \u001b[39mself\u001b[39m\u001b[39m.\u001b[39m_fetch_complementary(\u001b[39mself\u001b[39m\u001b[39m.\u001b[39mproxy)\n\u001b[0;32m    559\u001b[0m     \u001b[39mreturn\u001b[39;00m \u001b[39mself\u001b[39m\u001b[39m.\u001b[39m_info\n",
      "File \u001b[1;32mc:\\Users\\Blake Dennett\\AppData\\Local\\Programs\\Python\\Python310\\lib\\site-packages\\yfinance\\scrapers\\quote.py:706\u001b[0m, in \u001b[0;36mQuote._fetch\u001b[1;34m(self, proxy)\u001b[0m\n\u001b[0;32m    703\u001b[0m \u001b[39mself\u001b[39m\u001b[39m.\u001b[39m_already_fetched \u001b[39m=\u001b[39m \u001b[39mTrue\u001b[39;00m\n\u001b[0;32m    704\u001b[0m modules \u001b[39m=\u001b[39m [\u001b[39m'\u001b[39m\u001b[39msummaryProfile\u001b[39m\u001b[39m'\u001b[39m, \u001b[39m'\u001b[39m\u001b[39mfinancialData\u001b[39m\u001b[39m'\u001b[39m, \u001b[39m'\u001b[39m\u001b[39mquoteType\u001b[39m\u001b[39m'\u001b[39m,\n\u001b[0;32m    705\u001b[0m              \u001b[39m'\u001b[39m\u001b[39mdefaultKeyStatistics\u001b[39m\u001b[39m'\u001b[39m, \u001b[39m'\u001b[39m\u001b[39massetProfile\u001b[39m\u001b[39m'\u001b[39m, \u001b[39m'\u001b[39m\u001b[39msummaryDetail\u001b[39m\u001b[39m'\u001b[39m]\n\u001b[1;32m--> 706\u001b[0m result \u001b[39m=\u001b[39m \u001b[39mself\u001b[39;49m\u001b[39m.\u001b[39;49m_data\u001b[39m.\u001b[39;49mget_raw_json(\n\u001b[0;32m    707\u001b[0m     _BASIC_URL_ \u001b[39m+\u001b[39;49m \u001b[39mf\u001b[39;49m\u001b[39m\"\u001b[39;49m\u001b[39m/\u001b[39;49m\u001b[39m{\u001b[39;49;00m\u001b[39mself\u001b[39;49m\u001b[39m.\u001b[39;49m_data\u001b[39m.\u001b[39;49mticker\u001b[39m}\u001b[39;49;00m\u001b[39m\"\u001b[39;49m, params\u001b[39m=\u001b[39;49m{\u001b[39m\"\u001b[39;49m\u001b[39mmodules\u001b[39;49m\u001b[39m\"\u001b[39;49m: \u001b[39m\"\u001b[39;49m\u001b[39m,\u001b[39;49m\u001b[39m\"\u001b[39;49m\u001b[39m.\u001b[39;49mjoin(modules), \u001b[39m\"\u001b[39;49m\u001b[39mssl\u001b[39;49m\u001b[39m\"\u001b[39;49m: \u001b[39m\"\u001b[39;49m\u001b[39mtrue\u001b[39;49m\u001b[39m\"\u001b[39;49m}, proxy\u001b[39m=\u001b[39;49mproxy\n\u001b[0;32m    708\u001b[0m )\n\u001b[0;32m    709\u001b[0m result[\u001b[39m\"\u001b[39m\u001b[39mquoteSummary\u001b[39m\u001b[39m\"\u001b[39m][\u001b[39m\"\u001b[39m\u001b[39mresult\u001b[39m\u001b[39m\"\u001b[39m][\u001b[39m0\u001b[39m][\u001b[39m\"\u001b[39m\u001b[39msymbol\u001b[39m\u001b[39m\"\u001b[39m] \u001b[39m=\u001b[39m \u001b[39mself\u001b[39m\u001b[39m.\u001b[39m_data\u001b[39m.\u001b[39mticker\n\u001b[0;32m    710\u001b[0m query1_info \u001b[39m=\u001b[39m \u001b[39mnext\u001b[39m(\n\u001b[0;32m    711\u001b[0m     (info \u001b[39mfor\u001b[39;00m info \u001b[39min\u001b[39;00m result\u001b[39m.\u001b[39mget(\u001b[39m\"\u001b[39m\u001b[39mquoteSummary\u001b[39m\u001b[39m\"\u001b[39m, {})\u001b[39m.\u001b[39mget(\u001b[39m\"\u001b[39m\u001b[39mresult\u001b[39m\u001b[39m\"\u001b[39m, []) \u001b[39mif\u001b[39;00m info[\u001b[39m\"\u001b[39m\u001b[39msymbol\u001b[39m\u001b[39m\"\u001b[39m] \u001b[39m==\u001b[39m \u001b[39mself\u001b[39m\u001b[39m.\u001b[39m_data\u001b[39m.\u001b[39mticker),\n\u001b[0;32m    712\u001b[0m     \u001b[39mNone\u001b[39;00m,\n\u001b[0;32m    713\u001b[0m )\n",
      "File \u001b[1;32mc:\\Users\\Blake Dennett\\AppData\\Local\\Programs\\Python\\Python310\\lib\\site-packages\\yfinance\\data.py:209\u001b[0m, in \u001b[0;36mTickerData.get_raw_json\u001b[1;34m(self, url, user_agent_headers, params, proxy, timeout)\u001b[0m\n\u001b[0;32m    207\u001b[0m \u001b[39mdef\u001b[39;00m \u001b[39mget_raw_json\u001b[39m(\u001b[39mself\u001b[39m, url, user_agent_headers\u001b[39m=\u001b[39m\u001b[39mNone\u001b[39;00m, params\u001b[39m=\u001b[39m\u001b[39mNone\u001b[39;00m, proxy\u001b[39m=\u001b[39m\u001b[39mNone\u001b[39;00m, timeout\u001b[39m=\u001b[39m\u001b[39m30\u001b[39m):\n\u001b[0;32m    208\u001b[0m     response \u001b[39m=\u001b[39m \u001b[39mself\u001b[39m\u001b[39m.\u001b[39mget(url, user_agent_headers\u001b[39m=\u001b[39muser_agent_headers, params\u001b[39m=\u001b[39mparams, proxy\u001b[39m=\u001b[39mproxy, timeout\u001b[39m=\u001b[39mtimeout)\n\u001b[1;32m--> 209\u001b[0m     response\u001b[39m.\u001b[39;49mraise_for_status()\n\u001b[0;32m    210\u001b[0m     \u001b[39mreturn\u001b[39;00m response\u001b[39m.\u001b[39mjson()\n",
      "File \u001b[1;32mc:\\Users\\Blake Dennett\\AppData\\Local\\Programs\\Python\\Python310\\lib\\site-packages\\requests\\models.py:1021\u001b[0m, in \u001b[0;36mResponse.raise_for_status\u001b[1;34m(self)\u001b[0m\n\u001b[0;32m   1016\u001b[0m     http_error_msg \u001b[39m=\u001b[39m (\n\u001b[0;32m   1017\u001b[0m         \u001b[39mf\u001b[39m\u001b[39m\"\u001b[39m\u001b[39m{\u001b[39;00m\u001b[39mself\u001b[39m\u001b[39m.\u001b[39mstatus_code\u001b[39m}\u001b[39;00m\u001b[39m Server Error: \u001b[39m\u001b[39m{\u001b[39;00mreason\u001b[39m}\u001b[39;00m\u001b[39m for url: \u001b[39m\u001b[39m{\u001b[39;00m\u001b[39mself\u001b[39m\u001b[39m.\u001b[39murl\u001b[39m}\u001b[39;00m\u001b[39m\"\u001b[39m\n\u001b[0;32m   1018\u001b[0m     )\n\u001b[0;32m   1020\u001b[0m \u001b[39mif\u001b[39;00m http_error_msg:\n\u001b[1;32m-> 1021\u001b[0m     \u001b[39mraise\u001b[39;00m HTTPError(http_error_msg, response\u001b[39m=\u001b[39m\u001b[39mself\u001b[39m)\n",
      "\u001b[1;31mHTTPError\u001b[0m: 404 Client Error: Not Found for url: https://query2.finance.yahoo.com/v10/finance/quoteSummary/SIVB?modules=summaryProfile%2CfinancialData%2CquoteType%2CdefaultKeyStatistics%2CassetProfile%2CsummaryDetail&ssl=true"
     ]
    }
   ],
   "source": [
    "ids = {'QRVO':0, 'RCL':0, 'RE':0, 'REGN':0, 'RHI':0, 'RIBT':0, 'RJF':0, 'RL':0, 'RLI':0, 'RMD':0, 'ROK':0, 'ROP':0, 'ROST':0, 'RSG':0, 'SBUX':0, 'SHW':0, 'SIVB':0, 'SLB':0,\n",
    "'SLG':0, 'SNPS':0, 'SPG':0, 'SRE':0, 'STT':0, 'STX':0, 'STZ-B':0, 'SWK':0, 'SWKS':0, 'SYK':0, 'TAP':0, 'TEL':0, 'TMO':0, 'TMUS':0, 'TROW':0, 'TRV':0, 'TSCO':0, 'TTWO':0,'TW':0, 'TXN':0, 'TYL':0, 'UHS':0, 'ULTA':0, 'UNP':0, 'UPS':0, 'URI':0, 'V':0, 'VMC':0,\n",
    "'VRSK':0, 'VRSN':0, 'WAT':0, 'WDC':0, 'WEC':0, 'WHR':0, 'WM':0, 'WSPOF':0, 'WST':0, 'WYNN':0, 'XOM':0, 'XYL':0, 'YUM':0, 'ZBH':0, 'ZTS':0, 'A':0, 'AAP':0, 'AAPL':0, 'ABBV':0, 'ABC':0, 'ABMD':0, 'ABT':0, 'ACN':0, 'ADI':0, 'ADP':0, 'ADSK':0, 'AEP':0, 'AIZ':0, 'AJG':0, 'AKAM':0, 'ALB':0, 'ALGN':0, 'ALLE':0, 'AMAT':0, 'AMD':0, 'AME':0,\n",
    "'AMGN':0, 'AMP':0, 'AMT':0, 'AMZN':0, 'ANET':0, 'AON':0, 'APA':0, 'APD':0, 'ARE':0, 'ATVI':0, 'AVB':0, 'AVY':0, 'AWK':0, 'AXP':0, 'AZO':0, 'BA':0, 'BBY':0, 'BDX':0,\n",
    "'BIIB':0, 'BIO':0, 'BLK':0, 'BR':0, 'BRK-A':0, 'BXP':0, 'C':0, 'CAT':0, 'CB':0, 'CCI':0, 'CDE':0, 'CDNS':0, 'CF':0, 'CHD':0, 'CHRW':0, 'CHTR':0, 'CINF':0, 'CLX':0, 'CME':0, 'CMG':0, 'CMI':0, 'COO':0, 'COP':0, 'COST':0, 'CRM':0, 'CTAS':0, 'DE':0,\n",
    "'DFS':0, 'DG':0, 'DGX':0, 'DHI':0, 'DIS':0, 'DLTR':0, 'DOV':0, 'DPZ':0, 'DRI':0, 'DTE':0, 'DVA':0, 'DXCM':0, 'EA':0, 'ECL':0, 'ED':0, 'EFX':0, 'EL':0, 'EMN':0, 'EMR':0, 'ENS':0, 'EOG':0, 'EQIX':0, 'ESS':0, 'EW':0, 'EXR':0, 'FANG':0, 'FBHS':0, 'FDX':0, 'FFIV':0, 'FIS':0, 'FISV':0, 'FLT':0, 'FMC':0, 'FN':0, 'FRC':0, 'FRT':0, 'GD':0,\n",
    "'GE':0, 'GILD':0, 'GOOG':0, 'GPC':0, 'GPN':0, 'GRMN':0, 'GWW':0, 'HAS':0, 'HCA':0, 'HD':0, 'HES':0, 'HII':0, 'HLT':0, 'HON':0, 'HSY':0, 'HUM':0, 'IBM':0, 'ICE':0, 'IDXX':0, 'IEX':0, 'IFF':0, 'ILMN':0, 'INTH':0, 'INTU':0, 'IPGP':0, 'ISRG':0, 'IT':0,\n",
    "'ITW':0, 'JBHT':0, 'JCI':0, 'JKHY':0, 'JNJ':0, 'JNPR':0, 'JPM':0, 'KEYS':0, 'KMB':0, 'KMX':0, 'LDOS':0, 'LH':0, 'LMT':0, 'LOW':0, 'LRCX':0, 'LVS':0, 'LYB':0, 'LYV':0, 'MAA':0, 'MAR':0, 'MCD':0, 'MCK':0, 'MCO':0, 'MDT':0, 'MHK':0, 'MKTX':0, 'MLM':0, 'MMC':0, 'MMM':0, 'MNST':0, 'MOS':0, 'MPC':0, 'MRK':0, 'MSCI':0, 'MSFT':0, 'MSI':0,\n",
    "'NFLX':0, 'NOC':0, 'NOW':0, 'NOXL':0, 'NSC':0, 'NTAP':0, 'NTRA':0, 'NTRR':0, 'NTRS':0, 'NVR':0, 'NVRO':0, 'ODFL':0, 'ORLY':0, 'OXY':0, 'PAYX':0, 'PCAR':0, 'PEP':0, 'PG':0, 'PH':0, 'PKG':0, 'PKI':0, 'PLD':0, 'PM':0, 'PNW':0, 'PPG':0, 'PRU':0,'PSX':0, 'PVH':0, 'PWR':0, 'PXD':0}\n",
    "\n",
    "# top_ten_df.set_index(\"company_id\", inplace=True)\n",
    "\n",
    "\n",
    "for id, num in ids.items():\n",
    "    new_df = top_ten_df.loc[id, 'size']\n",
    "    new_df = pd.DataFrame(new_df)\n",
    "    avg = new_df['size'].mean()\n",
    "    ids[id] = avg\n",
    "\n",
    "new_dict = {'id':[], 'size':[]}\n",
    "\n",
    "for id, num in ids.items():\n",
    "    new_dict['id'].append(id)\n",
    "    new_dict['size'].append(num)\n",
    "\n",
    "size_df = pd.DataFrame.from_dict(new_dict)\n",
    "\n",
    "size_df['company'] = size_df['id'].apply(get_company_name)\n",
    "\n",
    "\n",
    "size_df.drop(columns=['id'])\n",
    "\n",
    "# REMOVE EVERYTHING UNDER 1 MILLION 5 HUNDRED THOUSAND, \"SIVB\" DOESNT WORK BUT I THINK ITS SMALL\n"
   ]
  },
  {
   "cell_type": "code",
   "execution_count": 64,
   "metadata": {},
   "outputs": [
    {
     "data": {
      "text/html": [
       "\n",
       "<div id=\"altair-viz-2d043f272ad24b0c994c88f4c99f24ed\"></div>\n",
       "<script type=\"text/javascript\">\n",
       "  var VEGA_DEBUG = (typeof VEGA_DEBUG == \"undefined\") ? {} : VEGA_DEBUG;\n",
       "  (function(spec, embedOpt){\n",
       "    let outputDiv = document.currentScript.previousElementSibling;\n",
       "    if (outputDiv.id !== \"altair-viz-2d043f272ad24b0c994c88f4c99f24ed\") {\n",
       "      outputDiv = document.getElementById(\"altair-viz-2d043f272ad24b0c994c88f4c99f24ed\");\n",
       "    }\n",
       "    const paths = {\n",
       "      \"vega\": \"https://cdn.jsdelivr.net/npm//vega@5?noext\",\n",
       "      \"vega-lib\": \"https://cdn.jsdelivr.net/npm//vega-lib?noext\",\n",
       "      \"vega-lite\": \"https://cdn.jsdelivr.net/npm//vega-lite@4.17.0?noext\",\n",
       "      \"vega-embed\": \"https://cdn.jsdelivr.net/npm//vega-embed@6?noext\",\n",
       "    };\n",
       "\n",
       "    function maybeLoadScript(lib, version) {\n",
       "      var key = `${lib.replace(\"-\", \"\")}_version`;\n",
       "      return (VEGA_DEBUG[key] == version) ?\n",
       "        Promise.resolve(paths[lib]) :\n",
       "        new Promise(function(resolve, reject) {\n",
       "          var s = document.createElement('script');\n",
       "          document.getElementsByTagName(\"head\")[0].appendChild(s);\n",
       "          s.async = true;\n",
       "          s.onload = () => {\n",
       "            VEGA_DEBUG[key] = version;\n",
       "            return resolve(paths[lib]);\n",
       "          };\n",
       "          s.onerror = () => reject(`Error loading script: ${paths[lib]}`);\n",
       "          s.src = paths[lib];\n",
       "        });\n",
       "    }\n",
       "\n",
       "    function showError(err) {\n",
       "      outputDiv.innerHTML = `<div class=\"error\" style=\"color:red;\">${err}</div>`;\n",
       "      throw err;\n",
       "    }\n",
       "\n",
       "    function displayChart(vegaEmbed) {\n",
       "      vegaEmbed(outputDiv, spec, embedOpt)\n",
       "        .catch(err => showError(`Javascript Error: ${err.message}<br>This usually means there's a typo in your chart specification. See the javascript console for the full traceback.`));\n",
       "    }\n",
       "\n",
       "    if(typeof define === \"function\" && define.amd) {\n",
       "      requirejs.config({paths});\n",
       "      require([\"vega-embed\"], displayChart, err => showError(`Error loading script: ${err.message}`));\n",
       "    } else {\n",
       "      maybeLoadScript(\"vega\", \"5\")\n",
       "        .then(() => maybeLoadScript(\"vega-lite\", \"4.17.0\"))\n",
       "        .then(() => maybeLoadScript(\"vega-embed\", \"6\"))\n",
       "        .catch(showError)\n",
       "        .then(() => displayChart(vegaEmbed));\n",
       "    }\n",
       "  })({\"config\": {\"view\": {\"continuousWidth\": 400, \"continuousHeight\": 300}}, \"data\": {\"name\": \"data-b5fd973c9edabe4d74d7a09f9f333038\"}, \"mark\": \"bar\", \"encoding\": {\"x\": {\"field\": \"id\", \"sort\": \"-y\", \"type\": \"nominal\"}, \"y\": {\"field\": \"size\", \"type\": \"quantitative\"}}, \"$schema\": \"https://vega.github.io/schema/vega-lite/v4.17.0.json\", \"datasets\": {\"data-b5fd973c9edabe4d74d7a09f9f333038\": [{\"id\": \"QRVO\", \"size\": 185509.61343450478}, {\"id\": \"RCL\", \"size\": 194129.21296296295}, {\"id\": \"RE\", \"size\": 63810.7090024163}, {\"id\": \"REGN\", \"size\": 349046.63170758524}, {\"id\": \"RHI\", \"size\": 88281.43136612023}, {\"id\": \"RIBT\", \"size\": 618.8491273304245}, {\"id\": \"RJF\", \"size\": 127354.81668508287}, {\"id\": \"RL\", \"size\": 133245.9871143617}, {\"id\": \"RLI\", \"size\": 15653.623661971833}, {\"id\": \"RMD\", \"size\": 107030.4811821366}, {\"id\": \"ROK\", \"size\": 148672.7394789405}, {\"id\": \"ROP\", \"size\": 127049.6347860659}, {\"id\": \"ROST\", \"size\": 233690.70853612167}, {\"id\": \"RSG\", \"size\": 144767.6036818182}, {\"id\": \"SBUX\", \"size\": 685208.8289473684}, {\"id\": \"SHW\", \"size\": 307092.6232820856}, {\"id\": \"SIVB\", \"size\": 127358.63841291497}, {\"id\": \"SLB\", \"size\": 763365.017437186}, {\"id\": \"SLG\", \"size\": 76634.35135021097}, {\"id\": \"SNPS\", \"size\": 212045.14296747965}, {\"id\": \"SPG\", \"size\": 250163.65638074555}, {\"id\": \"SRE\", \"size\": 181013.08887443724}, {\"id\": \"STT\", \"size\": 197819.3932608696}, {\"id\": \"STX\", \"size\": 242023.6596103896}, {\"id\": \"STZ-B\", \"size\": 184.95409802930777}, {\"id\": \"SWK\", \"size\": 176912.0804490501}, {\"id\": \"SWKS\", \"size\": 271707.6967374302}, {\"id\": \"SYK\", \"size\": 248312.93378378375}, {\"id\": \"TAP\", \"size\": 183813.56697916667}, {\"id\": \"TEL\", \"size\": 205875.75073211314}, {\"id\": \"TMO\", \"size\": 433171.1466491458}, {\"id\": \"TMUS\", \"size\": 621899.0262187499}, {\"id\": \"TROW\", \"size\": 172965.0920865801}, {\"id\": \"TRV\", \"size\": 199694.6841003548}, {\"id\": \"TSCO\", \"size\": 190019.65705111402}, {\"id\": \"TTWO\", \"size\": 249095.73625916868}, {\"id\": \"TW\", \"size\": 46943.8025}, {\"id\": \"TXN\", \"size\": 716899.6492711864}, {\"id\": \"TYL\", \"size\": 62790.757691940875}, {\"id\": \"UHS\", \"size\": 94116.72334992532}, {\"id\": \"ULTA\", \"size\": 238903.08089702515}, {\"id\": \"UNP\", \"size\": 567568.9685398982}, {\"id\": \"UPS\", \"size\": 420083.0102708444}, {\"id\": \"URI\", \"size\": 200528.25699216392}, {\"id\": \"V\", \"size\": 1480764.6068906942}, {\"id\": \"VMC\", \"size\": 139686.78461368656}, {\"id\": \"VRSK\", \"size\": 141159.31090157153}, {\"id\": \"VRSN\", \"size\": 213110.10902071564}, {\"id\": \"WAT\", \"size\": 94153.4071687527}, {\"id\": \"WDC\", \"size\": 205687.2349107143}, {\"id\": \"WEC\", \"size\": 138397.53733333334}, {\"id\": \"WHR\", \"size\": 148133.32446702453}, {\"id\": \"WM\", \"size\": 230600.59251096493}, {\"id\": \"WSPOF\", \"size\": 106.7790047393365}, {\"id\": \"WST\", \"size\": 107195.8589506173}, {\"id\": \"WYNN\", \"size\": 298768.8120116861}, {\"id\": \"XOM\", \"size\": 1350472.5617213116}, {\"id\": \"XYL\", \"size\": 99706.56464882944}, {\"id\": \"YUM\", \"size\": 189987.70937759336}, {\"id\": \"ZBH\", \"size\": 160840.58354318418}, {\"id\": \"ZTS\", \"size\": 306443.9115715823}, {\"id\": \"A\", \"size\": 224811.83407801416}, {\"id\": \"AAP\", \"size\": 154646.5458462946}, {\"id\": \"AAPL\", \"size\": 13920015.96638191}, {\"id\": \"ABBV\", \"size\": 864878.1338879457}, {\"id\": \"ABC\", \"size\": 163303.50588873815}, {\"id\": \"ABMD\", \"size\": 123546.23044524669}, {\"id\": \"ABT\", \"size\": 618629.712521589}, {\"id\": \"ACN\", \"size\": 424978.4539912039}, {\"id\": \"ADI\", \"size\": 442346.3084}, {\"id\": \"ADP\", \"size\": 326272.34436314367}, {\"id\": \"ADSK\", \"size\": 322634.59698072803}, {\"id\": \"AEP\", \"size\": 253476.6439772727}, {\"id\": \"AIZ\", \"size\": 60769.65676720075}, {\"id\": \"AJG\", \"size\": 138231.49948031496}, {\"id\": \"AKAM\", \"size\": 170608.79006441223}, {\"id\": \"ALB\", \"size\": 237894.61024242424}, {\"id\": \"ALGN\", \"size\": 283387.3472070845}, {\"id\": \"ALLE\", \"size\": 82970.62132876713}, {\"id\": \"AMAT\", \"size\": 1027217.6560891088}, {\"id\": \"AMD\", \"size\": 9231352.913756615}, {\"id\": \"AME\", \"size\": 124150.3863772955}, {\"id\": \"AMGN\", \"size\": 569304.4107018993}, {\"id\": \"AMP\", \"size\": 139860.53674296616}, {\"id\": \"AMT\", \"size\": 368618.1141335636}, {\"id\": \"AMZN\", \"size\": 11511978.598657817}, {\"id\": \"ANET\", \"size\": 261985.59277566543}, {\"id\": \"AON\", \"size\": 223611.29595251556}, {\"id\": \"APA\", \"size\": 418711.4297350993}, {\"id\": \"APD\", \"size\": 222676.7245026178}, {\"id\": \"ARE\", \"size\": 105177.2206838506}, {\"id\": \"ATVI\", \"size\": 575084.24}, {\"id\": \"AVB\", \"size\": 121989.58083675144}, {\"id\": \"AVY\", \"size\": 80430.28362366476}, {\"id\": \"AWK\", \"size\": 128889.34071875}, {\"id\": \"AXP\", \"size\": 484096.91793824703}, {\"id\": \"AZO\", \"size\": 196481.90510268946}, {\"id\": \"BA\", \"size\": 1598853.409724846}, {\"id\": \"BBY\", \"size\": 300892.8955913978}, {\"id\": \"BDX\", \"size\": 256366.18073770494}, {\"id\": \"BIIB\", \"size\": 428401.7068708201}, {\"id\": \"BIO\", \"size\": 44767.341693494294}, {\"id\": \"BLK\", \"size\": 228917.85487520412}, {\"id\": \"BR\", \"size\": 89762.62283464568}, {\"id\": \"BRK-A\", \"size\": 2142385.1615698645}, {\"id\": \"BXP\", \"size\": 100257.16646131805}, {\"id\": \"C\", \"size\": 726357.0939950526}, {\"id\": \"CAT\", \"size\": 625640.4902021952}, {\"id\": \"CB\", \"size\": 241289.8880082042}, {\"id\": \"CCI\", \"size\": 289562.0251298701}, {\"id\": \"CDE\", \"size\": 1560.7059909456739}, {\"id\": \"CDNS\", \"size\": 228450.56690909094}, {\"id\": \"CF\", \"size\": 288452.17352380947}, {\"id\": \"CHD\", \"size\": 171180.74040816328}, {\"id\": \"CHRW\", \"size\": 133506.1651980198}, {\"id\": \"CHTR\", \"size\": 468845.97397634585}, {\"id\": \"CINF\", \"size\": 72244.2074030354}, {\"id\": \"CLX\", \"size\": 179609.6224199113}, {\"id\": \"CME\", \"size\": 308359.98233451234}, {\"id\": \"CMG\", \"size\": 338074.3340152852}, {\"id\": \"CMI\", \"size\": 221512.90280325446}, {\"id\": \"COO\", \"size\": 88311.68812374448}, {\"id\": \"COP\", \"size\": 834795.6007575758}, {\"id\": \"COST\", \"size\": 568524.7590945037}, {\"id\": \"CRM\", \"size\": 1180818.735484872}, {\"id\": \"CTAS\", \"size\": 131612.22648883375}, {\"id\": \"DE\", \"size\": 424971.58051905385}, {\"id\": \"DFS\", \"size\": 202966.4494214876}, {\"id\": \"DG\", \"size\": 362110.2796489649}, {\"id\": \"DGX\", \"size\": 134923.6924010554}, {\"id\": \"DHI\", \"size\": 321697.9515}, {\"id\": \"DIS\", \"size\": 1273250.8716331504}, {\"id\": \"DLTR\", \"size\": 292175.6936281859}, {\"id\": \"DOV\", \"size\": 110720.82397241381}, {\"id\": \"DPZ\", \"size\": 187728.9293953252}, {\"id\": \"DRI\", \"size\": 173492.4444234801}, {\"id\": \"DTE\", \"size\": 136021.11276023393}, {\"id\": \"DVA\", \"size\": 80590.50131367292}, {\"id\": \"DXCM\", \"size\": 383721.8880515759}, {\"id\": \"EA\", \"size\": 362261.9350087565}, {\"id\": \"ECL\", \"size\": 189925.2025119721}, {\"id\": \"ED\", \"size\": 139325.88444444444}, {\"id\": \"EFX\", \"size\": 135392.8909268565}, {\"id\": \"EL\", \"size\": 328489.1975055679}, {\"id\": \"EMN\", \"size\": 108077.48825651302}, {\"id\": \"EMR\", \"size\": 212616.8872413793}, {\"id\": \"ENS\", \"size\": 34758.65666666667}, {\"id\": \"EOG\", \"size\": 407814.6456101191}, {\"id\": \"EQIX\", \"size\": 221957.12981101335}, {\"id\": \"ESS\", \"size\": 73259.08567638561}, {\"id\": \"EW\", \"size\": 277577.9323481781}, {\"id\": \"EXR\", \"size\": 116570.65539812647}, {\"id\": \"FANG\", \"size\": 246354.00348809524}, {\"id\": \"FBHS\", \"size\": 82004.06582524272}, {\"id\": \"FDX\", \"size\": 374014.9712033195}, {\"id\": \"FFIV\", \"size\": 134836.33896241192}, {\"id\": \"FIS\", \"size\": 410695.1258835143}, {\"id\": \"FISV\", \"size\": 445705.7510015898}, {\"id\": \"FLT\", \"size\": 142242.72896331057}, {\"id\": \"FMC\", \"size\": 92059.65577777778}, {\"id\": \"FN\", \"size\": 20656.305969387755}, {\"id\": \"FRC\", \"size\": 137625.27121767242}, {\"id\": \"FRT\", \"size\": 55151.8667904396}, {\"id\": \"GD\", \"size\": 238848.27008060904}, {\"id\": \"GE\", \"size\": 930829.3168410041}, {\"id\": \"GILD\", \"size\": 1255545.4790397352}, {\"id\": \"GOOG\", \"size\": 3292581.483136792}, {\"id\": \"GPC\", \"size\": 93414.84470514429}, {\"id\": \"GPN\", \"size\": 263830.9811278793}, {\"id\": \"GRMN\", \"size\": 167064.54234082397}, {\"id\": \"GWW\", \"size\": 130227.86537248842}, {\"id\": \"HAS\", \"size\": 116345.51644736843}, {\"id\": \"HCA\", \"size\": 274974.85585726716}, {\"id\": \"HD\", \"size\": 925985.8172799601}, {\"id\": \"HES\", \"size\": 332208.03448398574}, {\"id\": \"HII\", \"size\": 66391.89401309636}, {\"id\": \"HLT\", \"size\": 279641.15247474745}, {\"id\": \"HON\", \"size\": 479293.1855162579}, {\"id\": \"HSY\", \"size\": 149757.4105822137}, {\"id\": \"HUM\", \"size\": 305308.08284444443}, {\"id\": \"IBM\", \"size\": 768460.435044664}, {\"id\": \"ICE\", \"size\": 296446.75542553194}, {\"id\": \"IDXX\", \"size\": 152049.2211790393}, {\"id\": \"IEX\", \"size\": 67968.11047116737}, {\"id\": \"IFF\", \"size\": 127370.48847964688}, {\"id\": \"ILMN\", \"size\": 290099.64398058254}, {\"id\": \"INTH\", \"size\": 269.9581907894737}, {\"id\": \"INTU\", \"size\": 400568.32767039107}, {\"id\": \"IPGP\", \"size\": 71080.31332844574}, {\"id\": \"ISRG\", \"size\": 421356.6591058656}, {\"id\": \"IT\", \"size\": 96515.91930125248}, {\"id\": \"ITW\", \"size\": 208654.28520047173}, {\"id\": \"JBHT\", \"size\": 109204.63710084034}, {\"id\": \"JCI\", \"size\": 441759.63656542054}, {\"id\": \"JKHY\", \"size\": 76369.20588825215}, {\"id\": \"JNJ\", \"size\": 981704.3786937378}, {\"id\": \"JNPR\", \"size\": 1626703.1112844036}, {\"id\": \"JPM\", \"size\": 1704323.0778257041}, {\"id\": \"KEYS\", \"size\": 160956.53833836858}, {\"id\": \"KMB\", \"size\": 227739.04895034843}, {\"id\": \"KMX\", \"size\": 149214.5499140401}, {\"id\": \"LDOS\", \"size\": 85343.92020408165}, {\"id\": \"LH\", \"size\": 134196.02341595312}, {\"id\": \"LMT\", \"size\": 404835.0575212727}, {\"id\": \"LOW\", \"size\": 669756.5998223615}, {\"id\": \"LRCX\", \"size\": 578550.7366710268}, {\"id\": \"LVS\", \"size\": 398553.4340707964}, {\"id\": \"LYB\", \"size\": 246029.76261904766}, {\"id\": \"LYV\", \"size\": 257417.51485714284}, {\"id\": \"MAA\", \"size\": 84578.13201996927}, {\"id\": \"MAR\", \"size\": 297866.9132698413}, {\"id\": \"MCD\", \"size\": 650685.3996546392}, {\"id\": \"MCK\", \"size\": 260175.0799440224}, {\"id\": \"MCO\", \"size\": 173487.45975386378}, {\"id\": \"MDT\", \"size\": 555173.5486201298}, {\"id\": \"MHK\", \"size\": 116219.74850471293}, {\"id\": \"MKTX\", \"size\": 81447.35272321428}, {\"id\": \"MLM\", \"size\": 126750.8246088795}, {\"id\": \"MMC\", \"size\": 250175.1704609475}, {\"id\": \"MMM\", \"size\": 443572.4525562701}, {\"id\": \"MNST\", \"size\": 166861.54846153848}, {\"id\": \"MOS\", \"size\": 828926.8570149255}, {\"id\": \"MPC\", \"size\": 471386.73732394364}, {\"id\": \"MRK\", \"size\": 951082.3870833333}, {\"id\": \"MSCI\", \"size\": 155809.42345441596}, {\"id\": \"MSFT\", \"size\": 6072710.356433009}, {\"id\": \"MSI\", \"size\": 248793.59375233352}, {\"id\": \"NFLX\", \"size\": 2476992.057869719}, {\"id\": \"NOC\", \"size\": 273333.05254340277}, {\"id\": \"NOW\", \"size\": 579965.0270050035}, {\"id\": \"NOXL\", \"size\": 75.52257485029938}, {\"id\": \"NSC\", \"size\": 277847.0450510783}, {\"id\": \"NTAP\", \"size\": 832517.2670270269}, {\"id\": \"NTRA\", \"size\": 95393.18940000002}, {\"id\": \"NTRR\", \"size\": 79.1235}, {\"id\": \"NTRS\", \"size\": 104302.29051580698}, {\"id\": \"NVR\", \"size\": 52759.173367586074}, {\"id\": \"NVRO\", \"size\": 55715.01748502994}, {\"id\": \"ODFL\", \"size\": 170231.26816649106}, {\"id\": \"ORLY\", \"size\": 221053.94400080253}, {\"id\": \"OXY\", \"size\": 498913.62263157894}, {\"id\": \"PAYX\", \"size\": 196501.285425}, {\"id\": \"PCAR\", \"size\": 207798.98124999998}, {\"id\": \"PEP\", \"size\": 603082.049685681}, {\"id\": \"PG\", \"size\": 999405.8406863781}, {\"id\": \"PH\", \"size\": 179058.28740164288}, {\"id\": \"PKG\", \"size\": 88541.01723021582}, {\"id\": \"PKI\", \"size\": 125410.64332810047}, {\"id\": \"PLD\", \"size\": 383916.4186003684}, {\"id\": \"PM\", \"size\": 491881.0162947369}, {\"id\": \"PNW\", \"size\": 124529.48714285716}, {\"id\": \"PPG\", \"size\": 170369.27265708198}, {\"id\": \"PRU\", \"size\": 207030.34801273886}, {\"id\": \"PSX\", \"size\": 284962.591880597}, {\"id\": \"PVH\", \"size\": 118004.05479553904}, {\"id\": \"PWR\", \"size\": 150351.32688679246}, {\"id\": \"PXD\", \"size\": 315135.09573117853}]}}, {\"mode\": \"vega-lite\"});\n",
       "</script>"
      ],
      "text/plain": [
       "alt.Chart(...)"
      ]
     },
     "execution_count": 64,
     "metadata": {},
     "output_type": "execute_result"
    }
   ],
   "source": [
    "size_chart = alt.Chart(size_df).mark_bar().encode(\n",
    "    x = alt.X('id', sort='-y'),\n",
    "    y = alt.Y('size')\n",
    ")\n",
    "size_chart"
   ]
  }
 ],
 "metadata": {
  "kernelspec": {
   "display_name": "Python 3",
   "language": "python",
   "name": "python3"
  },
  "language_info": {
   "codemirror_mode": {
    "name": "ipython",
    "version": 3
   },
   "file_extension": ".py",
   "mimetype": "text/x-python",
   "name": "python",
   "nbconvert_exporter": "python",
   "pygments_lexer": "ipython3",
   "version": "3.10.8"
  },
  "orig_nbformat": 4
 },
 "nbformat": 4,
 "nbformat_minor": 2
}
