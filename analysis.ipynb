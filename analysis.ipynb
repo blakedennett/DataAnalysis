{
 "cells": [
  {
   "cell_type": "code",
   "execution_count": 114,
   "metadata": {},
   "outputs": [],
   "source": [
    "import pandas as pd\n",
    "import os\n",
    "import threading\n",
    "from sklearn.ensemble import GradientBoostingRegressor\n",
    "import altair as alt\n",
    "import numpy as np\n",
    "import yfinance as yf\n",
    "from sklearn.model_selection import train_test_split\n",
    "from sklearn.metrics import mean_squared_error, r2_score"
   ]
  },
  {
   "cell_type": "code",
   "execution_count": 115,
   "metadata": {},
   "outputs": [],
   "source": [
    "# https://www.kaggle.com/datasets\n",
    "\n",
    "a_i_directory_path = r\"C:\\Users\\Blake Dennett\\Downloads\\Spring2023\\appliedProgramming\\Data\\stock_market_data\\sp500\\csv\"\n",
    "with_slash = r\"C:\\Users\\Blake Dennett\\Downloads\\Spring2023\\appliedProgramming\\Data\\stock_market_data\\sp500\\csv\\'\"\n",
    "\n",
    "d_i_directory_path = r\"C:\\Users\\Blake Dennett\\Downloads\\Spring2023\\appliedProgramming\\Data\\stock_market_data\\sp500\\csv\\d-i\"\n",
    "with_slash4 = r\"C:\\Users\\Blake Dennett\\Downloads\\Spring2023\\appliedProgramming\\Data\\stock_market_data\\sp500\\csv\\d-i\\'\"\n",
    "\n",
    "j_p_directory_path = r\"C:\\Users\\Blake Dennett\\Downloads\\Spring2023\\appliedProgramming\\Data\\stock_market_data\\sp500\\csv\\j-p\"\n",
    "with_slash2 = r\"C:\\Users\\Blake Dennett\\Downloads\\Spring2023\\appliedProgramming\\Data\\stock_market_data\\sp500\\csv\\j-p\\'\"\n",
    "\n",
    "q_z_directory_path = r\"C:\\Users\\Blake Dennett\\Downloads\\Spring2023\\appliedProgramming\\Data\\stock_market_data\\sp500\\csv\\j-p\\q-z\"\n",
    "with_slash3 = r\"C:\\Users\\Blake Dennett\\Downloads\\Spring2023\\appliedProgramming\\Data\\stock_market_data\\sp500\\csv\\j-p\\q-z\\'\"\n",
    "\n",
    "df = pd.DataFrame()\n",
    "df2 = pd.DataFrame()\n",
    "df3 = pd.DataFrame()\n",
    "df4 = pd.DataFrame()\n",
    "dataframes = []"
   ]
  },
  {
   "cell_type": "code",
   "execution_count": 116,
   "metadata": {},
   "outputs": [],
   "source": [
    "# function to combine two datasets\n",
    "def combine(dat1, dat2):\n",
    "    to_combine = [dat1, dat2]\n",
    "    return pd.concat(to_combine)\n",
    "\n",
    "\n",
    "def get_company_name(id):\n",
    "    msft = yf.Ticker(id)\n",
    "\n",
    "    company_name = msft.info['longName']\n",
    "    return company_name"
   ]
  },
  {
   "cell_type": "code",
   "execution_count": 117,
   "metadata": {},
   "outputs": [
    {
     "name": "stdout",
     "output_type": "stream",
     "text": [
      "3258423\n"
     ]
    }
   ],
   "source": [
    "# function to loop through and open files\n",
    "def files_to_dataframe(directory_path, with_slash, df):\n",
    "    for filename in os.listdir(directory_path):\n",
    "        if filename == 'j-p'or filename == 'q-z' or filename == 'd-i':\n",
    "            continue\n",
    "        directory = with_slash[:-1]\n",
    "        path = directory + filename\n",
    "        with open(path, 'r') as file:\n",
    "            dat = pd.read_csv(file)\n",
    "        dat['company_id'] = filename[:len(filename)-4]\n",
    "        df = combine(df, dat)\n",
    "    dataframes.append(df)\n",
    "\n",
    "# loops through the folder broken up into four threads that run concurently \n",
    "thread1 = threading.Thread(target=files_to_dataframe, args=(a_i_directory_path, with_slash, df))\n",
    "thread2 = threading.Thread(target=files_to_dataframe, args=(j_p_directory_path, with_slash2, df2))\n",
    "thread3 = threading.Thread(target=files_to_dataframe, args=(q_z_directory_path, with_slash3, df3))\n",
    "thread4 = threading.Thread(target=files_to_dataframe, args=(d_i_directory_path, with_slash4, df4))\n",
    "\n",
    "thread1.start()\n",
    "thread2.start()\n",
    "thread3.start()\n",
    "thread4.start()\n",
    "thread1.join()\n",
    "thread2.join()\n",
    "thread3.join()\n",
    "thread4.join()\n",
    "\n",
    "# combining the dataframes from each of the four threads\n",
    "df = combine(dataframes[0], dataframes[1])\n",
    "df2 = combine(dataframes[2], dataframes[3])\n",
    "df = combine(df, df2)\n",
    "df.dropna(inplace=True)\n",
    "print(len(df))\n",
    "\n",
    "# df['company'] = df.apply(get_company_name, axis=1)\n",
    "# df.drop(columns=['company_id'])"
   ]
  },
  {
   "attachments": {},
   "cell_type": "markdown",
   "metadata": {},
   "source": [
    "## What is the biggest difference in the low and high?"
   ]
  },
  {
   "cell_type": "code",
   "execution_count": null,
   "metadata": {},
   "outputs": [
    {
     "name": "stdout",
     "output_type": "stream",
     "text": [
      "The biggest difference in high to low is 53156.0 from Berkshire Hathaway Inc.\n",
      "The high was 468795.00 and the low was 415639.00\n",
      "The date was 27-10-2022\n"
     ]
    }
   ],
   "source": [
    "# ==================================================== DATA ANALYSIS =========================================\n",
    "\n",
    "df['difference'] = df.apply(lambda x: x.High - x.Low, axis=1)\n",
    "\n",
    "max = df[\"difference\"].max()\n",
    "df.set_index(\"difference\", inplace=True)\n",
    "\n",
    "high = df.loc[max,'High']\n",
    "low = df.loc[max,'Low']\n",
    "company = get_company_name(df.loc[max,'company_id'])\n",
    "date = df.loc[max, 'Date']\n",
    "\n",
    "print(f\"The biggest difference in high to low is {max} from {company}\")\n",
    "print(f'The high was {high:.2f} and the low was {low:.2f}')\n",
    "print(f'The date was {date}')\n",
    "\n",
    "df.reset_index(inplace=True)"
   ]
  },
  {
   "attachments": {},
   "cell_type": "markdown",
   "metadata": {},
   "source": [
    "## What is the largest difference by percentage?"
   ]
  },
  {
   "cell_type": "code",
   "execution_count": null,
   "metadata": {},
   "outputs": [
    {
     "name": "stdout",
     "output_type": "stream",
     "text": [
      "The biggest difference by percent from high to low is 99.98492462247178 from Formcap Corp.\n",
      "The high was 1.99 and the low was 0.0003\n",
      "The date was 23-11-2020\n"
     ]
    }
   ],
   "source": [
    "df['percent_difference'] = df.apply(lambda x: (x.difference / x.High) * 100, axis=1)\n",
    "max = df['percent_difference'].max()\n",
    "\n",
    "df.set_index(\"percent_difference\", inplace=True)\n",
    "company = df.loc[max, 'company_id']\n",
    "high = df.loc[max, 'High']\n",
    "low = df.loc[max, 'Low']\n",
    "date = df.loc[max, 'Date']\n",
    "\n",
    "print(f\"The biggest difference by percent from high to low is {max} from {get_company_name(company)}\")\n",
    "print(f'The high was {high:.2f} and the low was {low:.4f}')\n",
    "print(f'The date was {date}')\n",
    "\n",
    "df.reset_index(inplace=True)\n",
    "# print(df.head())"
   ]
  },
  {
   "attachments": {},
   "cell_type": "markdown",
   "metadata": {},
   "source": [
    "## What is the oldest and newest date?"
   ]
  },
  {
   "cell_type": "code",
   "execution_count": 121,
   "metadata": {},
   "outputs": [
    {
     "name": "stdout",
     "output_type": "stream",
     "text": [
      " The oldest date is 1970-01-04 00:00:00, the company was: Date\n",
      "1970-01-04    XOM\n",
      "1970-01-04    AEP\n",
      "1970-01-04     BA\n",
      "1970-01-04    CAT\n",
      "1970-01-04    CNP\n",
      "1970-01-04    DIS\n",
      "1970-01-04    DTE\n",
      "1970-01-04     ED\n",
      "1970-01-04     GD\n",
      "1970-01-04     GE\n",
      "1970-01-04    HON\n",
      "1970-01-04    HPQ\n",
      "1970-01-04    IBM\n",
      "1970-01-04     IP\n",
      "1970-01-04    JNJ\n",
      "1970-01-04     KO\n",
      "1970-01-04     KR\n",
      "1970-01-04    MCD\n",
      "1970-01-04    MMM\n",
      "1970-01-04     MO\n",
      "1970-01-04    MRK\n",
      "1970-01-04    MRO\n",
      "1970-01-04    MSI\n",
      "1970-01-04     PG\n",
      "Name: company_id, dtype: object\n",
      "The newest date is 2022-12-12 00:00:00, the company was: Date\n",
      "2022-12-12    QRVO\n",
      "2022-12-12     RCL\n",
      "2022-12-12      RE\n",
      "2022-12-12     REG\n",
      "2022-12-12    REGN\n",
      "              ... \n",
      "2022-12-12     PRU\n",
      "2022-12-12     PSX\n",
      "2022-12-12     PVH\n",
      "2022-12-12     PWR\n",
      "2022-12-12     PXD\n",
      "Name: company_id, Length: 384, dtype: object\n"
     ]
    }
   ],
   "source": [
    "df['Date'] = pd.to_datetime(df['Date'])\n",
    "df['yr'] = pd.DatetimeIndex(df['Date']).year\n",
    "oldest = df['Date'].min()\n",
    "newest = df['Date'].max()\n",
    "df.set_index(\"Date\", inplace=True)\n",
    "oldest = pd.to_datetime(oldest)\n",
    "oldest_company = df.loc[oldest, 'company_id']\n",
    "newest = pd.to_datetime(newest)\n",
    "newest_company = df.loc[newest, 'company_id']\n",
    "print(f' The oldest date is {oldest}, the company was: {oldest_company}')\n",
    "print(f'The newest date is {newest}, the company was: {newest_company}')\n",
    "df.reset_index(inplace=True)"
   ]
  },
  {
   "attachments": {},
   "cell_type": "markdown",
   "metadata": {},
   "source": [
    "# Machine Learning to Guess the Close"
   ]
  },
  {
   "attachments": {},
   "cell_type": "markdown",
   "metadata": {},
   "source": [
    "## Vanilla Tree"
   ]
  },
  {
   "cell_type": "code",
   "execution_count": 94,
   "metadata": {},
   "outputs": [
    {
     "ename": "KeyError",
     "evalue": "\"[' difference', ' percent_difference'] not in index\"",
     "output_type": "error",
     "traceback": [
      "\u001b[1;31m---------------------------------------------------------------------------\u001b[0m",
      "\u001b[1;31mKeyError\u001b[0m                                  Traceback (most recent call last)",
      "\u001b[1;32mc:\\Users\\Blake Dennett\\Downloads\\Spring2023\\appliedProgramming\\DataAnalysis\\DataAnalysis\\analysis.ipynb Cell 13\u001b[0m in \u001b[0;36m2\n\u001b[0;32m      <a href='vscode-notebook-cell:/c%3A/Users/Blake%20Dennett/Downloads/Spring2023/appliedProgramming/DataAnalysis/DataAnalysis/analysis.ipynb#X15sZmlsZQ%3D%3D?line=0'>1</a>\u001b[0m df\u001b[39m.\u001b[39mrename(columns\u001b[39m=\u001b[39m{\u001b[39m'\u001b[39m\u001b[39mdifference\u001b[39m\u001b[39m'\u001b[39m:\u001b[39m'\u001b[39m\u001b[39m difference\u001b[39m\u001b[39m'\u001b[39m, \u001b[39m'\u001b[39m\u001b[39mpercent_difference\u001b[39m\u001b[39m'\u001b[39m:\u001b[39m'\u001b[39m\u001b[39m percent_difference\u001b[39m\u001b[39m'\u001b[39m}, inplace\u001b[39m=\u001b[39m\u001b[39mTrue\u001b[39;00m)\n\u001b[1;32m----> <a href='vscode-notebook-cell:/c%3A/Users/Blake%20Dennett/Downloads/Spring2023/appliedProgramming/DataAnalysis/DataAnalysis/analysis.ipynb#X15sZmlsZQ%3D%3D?line=1'>2</a>\u001b[0m X \u001b[39m=\u001b[39m df[[\u001b[39m'\u001b[39;49m\u001b[39m difference\u001b[39;49m\u001b[39m'\u001b[39;49m, \u001b[39m'\u001b[39;49m\u001b[39m percent_difference\u001b[39;49m\u001b[39m'\u001b[39;49m, \u001b[39m'\u001b[39;49m\u001b[39mHigh\u001b[39;49m\u001b[39m'\u001b[39;49m, \u001b[39m'\u001b[39;49m\u001b[39mLow\u001b[39;49m\u001b[39m'\u001b[39;49m, \u001b[39m'\u001b[39;49m\u001b[39mOpen\u001b[39;49m\u001b[39m'\u001b[39;49m, \u001b[39m'\u001b[39;49m\u001b[39mVolume\u001b[39;49m\u001b[39m'\u001b[39;49m]]\n\u001b[0;32m      <a href='vscode-notebook-cell:/c%3A/Users/Blake%20Dennett/Downloads/Spring2023/appliedProgramming/DataAnalysis/DataAnalysis/analysis.ipynb#X15sZmlsZQ%3D%3D?line=2'>3</a>\u001b[0m y \u001b[39m=\u001b[39m df[\u001b[39m'\u001b[39m\u001b[39mClose\u001b[39m\u001b[39m'\u001b[39m]\n\u001b[0;32m      <a href='vscode-notebook-cell:/c%3A/Users/Blake%20Dennett/Downloads/Spring2023/appliedProgramming/DataAnalysis/DataAnalysis/analysis.ipynb#X15sZmlsZQ%3D%3D?line=3'>4</a>\u001b[0m x_train, x_test, y_train, y_test \u001b[39m=\u001b[39m train_test_split(X, y, test_size\u001b[39m=\u001b[39m\u001b[39m0.3\u001b[39m, random_state\u001b[39m=\u001b[39m\u001b[39m25\u001b[39m)\n",
      "File \u001b[1;32mc:\\Users\\Blake Dennett\\AppData\\Local\\Programs\\Python\\Python310\\lib\\site-packages\\pandas\\core\\frame.py:3810\u001b[0m, in \u001b[0;36mDataFrame.__getitem__\u001b[1;34m(self, key)\u001b[0m\n\u001b[0;32m   3808\u001b[0m     \u001b[39mif\u001b[39;00m is_iterator(key):\n\u001b[0;32m   3809\u001b[0m         key \u001b[39m=\u001b[39m \u001b[39mlist\u001b[39m(key)\n\u001b[1;32m-> 3810\u001b[0m     indexer \u001b[39m=\u001b[39m \u001b[39mself\u001b[39;49m\u001b[39m.\u001b[39;49mcolumns\u001b[39m.\u001b[39;49m_get_indexer_strict(key, \u001b[39m\"\u001b[39;49m\u001b[39mcolumns\u001b[39;49m\u001b[39m\"\u001b[39;49m)[\u001b[39m1\u001b[39m]\n\u001b[0;32m   3812\u001b[0m \u001b[39m# take() does not accept boolean indexers\u001b[39;00m\n\u001b[0;32m   3813\u001b[0m \u001b[39mif\u001b[39;00m \u001b[39mgetattr\u001b[39m(indexer, \u001b[39m\"\u001b[39m\u001b[39mdtype\u001b[39m\u001b[39m\"\u001b[39m, \u001b[39mNone\u001b[39;00m) \u001b[39m==\u001b[39m \u001b[39mbool\u001b[39m:\n",
      "File \u001b[1;32mc:\\Users\\Blake Dennett\\AppData\\Local\\Programs\\Python\\Python310\\lib\\site-packages\\pandas\\core\\indexes\\base.py:6111\u001b[0m, in \u001b[0;36mIndex._get_indexer_strict\u001b[1;34m(self, key, axis_name)\u001b[0m\n\u001b[0;32m   6108\u001b[0m \u001b[39melse\u001b[39;00m:\n\u001b[0;32m   6109\u001b[0m     keyarr, indexer, new_indexer \u001b[39m=\u001b[39m \u001b[39mself\u001b[39m\u001b[39m.\u001b[39m_reindex_non_unique(keyarr)\n\u001b[1;32m-> 6111\u001b[0m \u001b[39mself\u001b[39;49m\u001b[39m.\u001b[39;49m_raise_if_missing(keyarr, indexer, axis_name)\n\u001b[0;32m   6113\u001b[0m keyarr \u001b[39m=\u001b[39m \u001b[39mself\u001b[39m\u001b[39m.\u001b[39mtake(indexer)\n\u001b[0;32m   6114\u001b[0m \u001b[39mif\u001b[39;00m \u001b[39misinstance\u001b[39m(key, Index):\n\u001b[0;32m   6115\u001b[0m     \u001b[39m# GH 42790 - Preserve name from an Index\u001b[39;00m\n",
      "File \u001b[1;32mc:\\Users\\Blake Dennett\\AppData\\Local\\Programs\\Python\\Python310\\lib\\site-packages\\pandas\\core\\indexes\\base.py:6174\u001b[0m, in \u001b[0;36mIndex._raise_if_missing\u001b[1;34m(self, key, indexer, axis_name)\u001b[0m\n\u001b[0;32m   6171\u001b[0m     \u001b[39mraise\u001b[39;00m \u001b[39mKeyError\u001b[39;00m(\u001b[39mf\u001b[39m\u001b[39m\"\u001b[39m\u001b[39mNone of [\u001b[39m\u001b[39m{\u001b[39;00mkey\u001b[39m}\u001b[39;00m\u001b[39m] are in the [\u001b[39m\u001b[39m{\u001b[39;00maxis_name\u001b[39m}\u001b[39;00m\u001b[39m]\u001b[39m\u001b[39m\"\u001b[39m)\n\u001b[0;32m   6173\u001b[0m not_found \u001b[39m=\u001b[39m \u001b[39mlist\u001b[39m(ensure_index(key)[missing_mask\u001b[39m.\u001b[39mnonzero()[\u001b[39m0\u001b[39m]]\u001b[39m.\u001b[39munique())\n\u001b[1;32m-> 6174\u001b[0m \u001b[39mraise\u001b[39;00m \u001b[39mKeyError\u001b[39;00m(\u001b[39mf\u001b[39m\u001b[39m\"\u001b[39m\u001b[39m{\u001b[39;00mnot_found\u001b[39m}\u001b[39;00m\u001b[39m not in index\u001b[39m\u001b[39m\"\u001b[39m)\n",
      "\u001b[1;31mKeyError\u001b[0m: \"[' difference', ' percent_difference'] not in index\""
     ]
    }
   ],
   "source": [
    "df.rename(columns={'difference':' difference', 'percent_difference':' percent_difference'}, inplace=True)\n",
    "X = df[[' difference', ' percent_difference', 'High', 'Low', 'Open', 'Volume']]\n",
    "y = df['Close']\n",
    "x_train, x_test, y_train, y_test = train_test_split(X, y, test_size=0.3, random_state=25)\n",
    "reg = GradientBoostingRegressor(random_state=25)\n",
    "reg.fit(x_train, y_train)\n",
    "y_predictions = reg.predict(x_test)\n",
    "r2 = r2_score(y_test, y_predictions)\n",
    "import math\n",
    "rmse = math.sqrt(mean_squared_error(y_test, y_predictions))\n",
    "print(f'The r^2 is: {r2} and the RMSE is: {rmse}')"
   ]
  },
  {
   "attachments": {},
   "cell_type": "markdown",
   "metadata": {},
   "source": [
    "## Visualizations"
   ]
  },
  {
   "cell_type": "code",
   "execution_count": 93,
   "metadata": {},
   "outputs": [
    {
     "name": "stdout",
     "output_type": "stream",
     "text": [
      "                  Date        Low       Open     Volume       High      Close  \\\n",
      "company_id                                                                      \n",
      "QRVO        02-01-2015  68.010002  69.000000  4218700.0  71.999001  70.400002   \n",
      "QRVO        05-01-2015  67.059998  71.230003  4534700.0  71.300003  67.629997   \n",
      "QRVO        06-01-2015  63.020000  67.930000  3749400.0  67.989998  64.669998   \n",
      "QRVO        07-01-2015  63.509998  65.010002  2122600.0  66.760002  66.650002   \n",
      "QRVO        08-01-2015  67.129997  67.949997  2510300.0  69.690002  67.690002   \n",
      "\n",
      "            Adjusted Close  \n",
      "company_id                  \n",
      "QRVO             70.400002  \n",
      "QRVO             67.629997  \n",
      "QRVO             64.669998  \n",
      "QRVO             66.650002  \n",
      "QRVO             67.690002  \n"
     ]
    },
    {
     "data": {
      "text/plain": [
       "'2_397_141'"
      ]
     },
     "execution_count": 93,
     "metadata": {},
     "output_type": "execute_result"
    }
   ],
   "source": [
    "\n",
    "alt.data_transformers.disable_max_rows()\n",
    "print(df.head())\n",
    "id_df = df.query('Close < 50')\n",
    "id_df.head()\n",
    "format(len(id_df), \"_d\")"
   ]
  },
  {
   "attachments": {},
   "cell_type": "markdown",
   "metadata": {},
   "source": [
    "# Company Size Top Ten"
   ]
  },
  {
   "cell_type": "code",
   "execution_count": null,
   "metadata": {},
   "outputs": [],
   "source": [
    "# limit the df by size to speed up computation\n",
    "# get volume * open\n",
    "# get avg of that by company, make a new dataframe with only one row per company\n",
    "# plot x-axis as company name and \"avg size\" as y-axis"
   ]
  },
  {
   "cell_type": "code",
   "execution_count": null,
   "metadata": {},
   "outputs": [],
   "source": [
    "top_ten_df = df.query('Open > 100')\n",
    "top_ten_df.drop(columns=['Date', 'Adjusted Close', 'Low', 'High', 'Close'], inplace=True)\n",
    "top_ten_df['size'] = top_ten_df.apply(lambda x: round((x.Volume * x.Open) / 1000, 2), axis=1)\n",
    "top_ten_df.head()\n",
    "top_ten_df['company_id'].unique()"
   ]
  },
  {
   "cell_type": "code",
   "execution_count": 80,
   "metadata": {},
   "outputs": [
    {
     "data": {
      "text/html": [
       "<div>\n",
       "<style scoped>\n",
       "    .dataframe tbody tr th:only-of-type {\n",
       "        vertical-align: middle;\n",
       "    }\n",
       "\n",
       "    .dataframe tbody tr th {\n",
       "        vertical-align: top;\n",
       "    }\n",
       "\n",
       "    .dataframe thead th {\n",
       "        text-align: right;\n",
       "    }\n",
       "</style>\n",
       "<table border=\"1\" class=\"dataframe\">\n",
       "  <thead>\n",
       "    <tr style=\"text-align: right;\">\n",
       "      <th></th>\n",
       "      <th>size</th>\n",
       "      <th>company</th>\n",
       "    </tr>\n",
       "  </thead>\n",
       "  <tbody>\n",
       "    <tr>\n",
       "      <th>0</th>\n",
       "      <td>1.480765e+06</td>\n",
       "      <td>Visa Inc.</td>\n",
       "    </tr>\n",
       "    <tr>\n",
       "      <th>1</th>\n",
       "      <td>1.392002e+07</td>\n",
       "      <td>Apple Inc.</td>\n",
       "    </tr>\n",
       "    <tr>\n",
       "      <th>2</th>\n",
       "      <td>9.231353e+06</td>\n",
       "      <td>Advanced Micro Devices, Inc.</td>\n",
       "    </tr>\n",
       "    <tr>\n",
       "      <th>3</th>\n",
       "      <td>1.151198e+07</td>\n",
       "      <td>Amazon.com, Inc.</td>\n",
       "    </tr>\n",
       "    <tr>\n",
       "      <th>4</th>\n",
       "      <td>1.598853e+06</td>\n",
       "      <td>The Boeing Company</td>\n",
       "    </tr>\n",
       "    <tr>\n",
       "      <th>5</th>\n",
       "      <td>2.142385e+06</td>\n",
       "      <td>Berkshire Hathaway Inc.</td>\n",
       "    </tr>\n",
       "    <tr>\n",
       "      <th>6</th>\n",
       "      <td>3.292581e+06</td>\n",
       "      <td>Alphabet Inc.</td>\n",
       "    </tr>\n",
       "    <tr>\n",
       "      <th>7</th>\n",
       "      <td>1.626703e+06</td>\n",
       "      <td>Juniper Networks, Inc.</td>\n",
       "    </tr>\n",
       "    <tr>\n",
       "      <th>8</th>\n",
       "      <td>1.704323e+06</td>\n",
       "      <td>JPMorgan Chase &amp; Co.</td>\n",
       "    </tr>\n",
       "    <tr>\n",
       "      <th>9</th>\n",
       "      <td>6.072710e+06</td>\n",
       "      <td>Microsoft Corporation</td>\n",
       "    </tr>\n",
       "    <tr>\n",
       "      <th>10</th>\n",
       "      <td>2.476992e+06</td>\n",
       "      <td>Netflix, Inc.</td>\n",
       "    </tr>\n",
       "  </tbody>\n",
       "</table>\n",
       "</div>"
      ],
      "text/plain": [
       "            size                       company\n",
       "0   1.480765e+06                     Visa Inc.\n",
       "1   1.392002e+07                    Apple Inc.\n",
       "2   9.231353e+06  Advanced Micro Devices, Inc.\n",
       "3   1.151198e+07              Amazon.com, Inc.\n",
       "4   1.598853e+06            The Boeing Company\n",
       "5   2.142385e+06       Berkshire Hathaway Inc.\n",
       "6   3.292581e+06                 Alphabet Inc.\n",
       "7   1.626703e+06        Juniper Networks, Inc.\n",
       "8   1.704323e+06          JPMorgan Chase & Co.\n",
       "9   6.072710e+06         Microsoft Corporation\n",
       "10  2.476992e+06                 Netflix, Inc."
      ]
     },
     "execution_count": 80,
     "metadata": {},
     "output_type": "execute_result"
    }
   ],
   "source": [
    "ids = {'QRVO':0, 'RCL':0, 'RE':0, 'REGN':0, 'RHI':0, 'RIBT':0, 'RJF':0, 'RL':0, 'RLI':0, 'RMD':0, 'ROK':0, 'ROP':0, 'ROST':0, 'RSG':0, 'SBUX':0, 'SHW':0, 'SIVB':0, 'SLB':0,\n",
    "'SLG':0, 'SNPS':0, 'SPG':0, 'SRE':0, 'STT':0, 'STX':0, 'STZ-B':0, 'SWK':0, 'SWKS':0, 'SYK':0, 'TAP':0, 'TEL':0, 'TMO':0, 'TMUS':0, 'TROW':0, 'TRV':0, 'TSCO':0, 'TTWO':0,'TW':0, 'TXN':0, 'TYL':0, 'UHS':0, 'ULTA':0, 'UNP':0, 'UPS':0, 'URI':0, 'V':0, 'VMC':0,\n",
    "'VRSK':0, 'VRSN':0, 'WAT':0, 'WDC':0, 'WEC':0, 'WHR':0, 'WM':0, 'WSPOF':0, 'WST':0, 'WYNN':0, 'XOM':0, 'XYL':0, 'YUM':0, 'ZBH':0, 'ZTS':0, 'A':0, 'AAP':0, 'AAPL':0, 'ABBV':0, 'ABC':0, 'ABMD':0, 'ABT':0, 'ACN':0, 'ADI':0, 'ADP':0, 'ADSK':0, 'AEP':0, 'AIZ':0, 'AJG':0, 'AKAM':0, 'ALB':0, 'ALGN':0, 'ALLE':0, 'AMAT':0, 'AMD':0, 'AME':0,\n",
    "'AMGN':0, 'AMP':0, 'AMT':0, 'AMZN':0, 'ANET':0, 'AON':0, 'APA':0, 'APD':0, 'ARE':0, 'ATVI':0, 'AVB':0, 'AVY':0, 'AWK':0, 'AXP':0, 'AZO':0, 'BA':0, 'BBY':0, 'BDX':0,\n",
    "'BIIB':0, 'BIO':0, 'BLK':0, 'BR':0, 'BRK-A':0, 'BXP':0, 'C':0, 'CAT':0, 'CB':0, 'CCI':0, 'CDE':0, 'CDNS':0, 'CF':0, 'CHD':0, 'CHRW':0, 'CHTR':0, 'CINF':0, 'CLX':0, 'CME':0, 'CMG':0, 'CMI':0, 'COO':0, 'COP':0, 'COST':0, 'CRM':0, 'CTAS':0, 'DE':0,\n",
    "'DFS':0, 'DG':0, 'DGX':0, 'DHI':0, 'DIS':0, 'DLTR':0, 'DOV':0, 'DPZ':0, 'DRI':0, 'DTE':0, 'DVA':0, 'DXCM':0, 'EA':0, 'ECL':0, 'ED':0, 'EFX':0, 'EL':0, 'EMN':0, 'EMR':0, 'ENS':0, 'EOG':0, 'EQIX':0, 'ESS':0, 'EW':0, 'EXR':0, 'FANG':0, 'FBHS':0, 'FDX':0, 'FFIV':0, 'FIS':0, 'FISV':0, 'FLT':0, 'FMC':0, 'FN':0, 'FRC':0, 'FRT':0, 'GD':0,\n",
    "'GE':0, 'GILD':0, 'GOOG':0, 'GPC':0, 'GPN':0, 'GRMN':0, 'GWW':0, 'HAS':0, 'HCA':0, 'HD':0, 'HES':0, 'HII':0, 'HLT':0, 'HON':0, 'HSY':0, 'HUM':0, 'IBM':0, 'ICE':0, 'IDXX':0, 'IEX':0, 'IFF':0, 'ILMN':0, 'INTH':0, 'INTU':0, 'IPGP':0, 'ISRG':0, 'IT':0,\n",
    "'ITW':0, 'JBHT':0, 'JCI':0, 'JKHY':0, 'JNJ':0, 'JNPR':0, 'JPM':0, 'KEYS':0, 'KMB':0, 'KMX':0, 'LDOS':0, 'LH':0, 'LMT':0, 'LOW':0, 'LRCX':0, 'LVS':0, 'LYB':0, 'LYV':0, 'MAA':0, 'MAR':0, 'MCD':0, 'MCK':0, 'MCO':0, 'MDT':0, 'MHK':0, 'MKTX':0, 'MLM':0, 'MMC':0, 'MMM':0, 'MNST':0, 'MOS':0, 'MPC':0, 'MRK':0, 'MSCI':0, 'MSFT':0, 'MSI':0,\n",
    "'NFLX':0, 'NOC':0, 'NOW':0, 'NOXL':0, 'NSC':0, 'NTAP':0, 'NTRA':0, 'NTRR':0, 'NTRS':0, 'NVR':0, 'NVRO':0, 'ODFL':0, 'ORLY':0, 'OXY':0, 'PAYX':0, 'PCAR':0, 'PEP':0, 'PG':0, 'PH':0, 'PKG':0, 'PKI':0, 'PLD':0, 'PM':0, 'PNW':0, 'PPG':0, 'PRU':0,'PSX':0, 'PVH':0, 'PWR':0, 'PXD':0}\n",
    "\n",
    "\n",
    "for id, num in ids.items():\n",
    "    new_df = top_ten_df.loc[id, 'size']\n",
    "    new_df = pd.DataFrame(new_df)\n",
    "    avg = new_df['size'].mean()\n",
    "    ids[id] = avg\n",
    "\n",
    "new_dict = {'id':[], 'size':[]}\n",
    "\n",
    "for id, num in ids.items():\n",
    "\n",
    "    if num > 1_470_000:\n",
    "        new_dict['id'].append(id)\n",
    "        new_dict['size'].append(num)\n",
    "\n",
    "size_df = pd.DataFrame.from_dict(new_dict)\n",
    "\n",
    "size_df['company'] = size_df['id'].apply(get_company_name)\n",
    "\n",
    "\n",
    "size_df.drop(columns=['id'])\n",
    "\n",
    "# REMOVE EVERYTHING UNDER 1 MILLION 5 HUNDRED THOUSAND, \"SIVB\" DOESNT WORK BUT I THINK ITS SMALL\n"
   ]
  },
  {
   "cell_type": "code",
   "execution_count": 92,
   "metadata": {},
   "outputs": [
    {
     "data": {
      "text/html": [
       "\n",
       "<div id=\"altair-viz-e67555c4c4954765a4e4d4841318c023\"></div>\n",
       "<script type=\"text/javascript\">\n",
       "  var VEGA_DEBUG = (typeof VEGA_DEBUG == \"undefined\") ? {} : VEGA_DEBUG;\n",
       "  (function(spec, embedOpt){\n",
       "    let outputDiv = document.currentScript.previousElementSibling;\n",
       "    if (outputDiv.id !== \"altair-viz-e67555c4c4954765a4e4d4841318c023\") {\n",
       "      outputDiv = document.getElementById(\"altair-viz-e67555c4c4954765a4e4d4841318c023\");\n",
       "    }\n",
       "    const paths = {\n",
       "      \"vega\": \"https://cdn.jsdelivr.net/npm//vega@5?noext\",\n",
       "      \"vega-lib\": \"https://cdn.jsdelivr.net/npm//vega-lib?noext\",\n",
       "      \"vega-lite\": \"https://cdn.jsdelivr.net/npm//vega-lite@4.17.0?noext\",\n",
       "      \"vega-embed\": \"https://cdn.jsdelivr.net/npm//vega-embed@6?noext\",\n",
       "    };\n",
       "\n",
       "    function maybeLoadScript(lib, version) {\n",
       "      var key = `${lib.replace(\"-\", \"\")}_version`;\n",
       "      return (VEGA_DEBUG[key] == version) ?\n",
       "        Promise.resolve(paths[lib]) :\n",
       "        new Promise(function(resolve, reject) {\n",
       "          var s = document.createElement('script');\n",
       "          document.getElementsByTagName(\"head\")[0].appendChild(s);\n",
       "          s.async = true;\n",
       "          s.onload = () => {\n",
       "            VEGA_DEBUG[key] = version;\n",
       "            return resolve(paths[lib]);\n",
       "          };\n",
       "          s.onerror = () => reject(`Error loading script: ${paths[lib]}`);\n",
       "          s.src = paths[lib];\n",
       "        });\n",
       "    }\n",
       "\n",
       "    function showError(err) {\n",
       "      outputDiv.innerHTML = `<div class=\"error\" style=\"color:red;\">${err}</div>`;\n",
       "      throw err;\n",
       "    }\n",
       "\n",
       "    function displayChart(vegaEmbed) {\n",
       "      vegaEmbed(outputDiv, spec, embedOpt)\n",
       "        .catch(err => showError(`Javascript Error: ${err.message}<br>This usually means there's a typo in your chart specification. See the javascript console for the full traceback.`));\n",
       "    }\n",
       "\n",
       "    if(typeof define === \"function\" && define.amd) {\n",
       "      requirejs.config({paths});\n",
       "      require([\"vega-embed\"], displayChart, err => showError(`Error loading script: ${err.message}`));\n",
       "    } else {\n",
       "      maybeLoadScript(\"vega\", \"5\")\n",
       "        .then(() => maybeLoadScript(\"vega-lite\", \"4.17.0\"))\n",
       "        .then(() => maybeLoadScript(\"vega-embed\", \"6\"))\n",
       "        .catch(showError)\n",
       "        .then(() => displayChart(vegaEmbed));\n",
       "    }\n",
       "  })({\"config\": {\"view\": {\"continuousWidth\": 400, \"continuousHeight\": 300}}, \"data\": {\"name\": \"data-04b2e2ec9bc088d937d19db1d07272d8\"}, \"mark\": {\"type\": \"bar\", \"color\": \"orange\"}, \"encoding\": {\"text\": {\"field\": \"size\", \"type\": \"quantitative\"}, \"x\": {\"axis\": {\"labelAngle\": -45}, \"field\": \"company\", \"sort\": \"-y\", \"title\": \"Company\", \"type\": \"nominal\"}, \"y\": {\"field\": \"size\", \"title\": \"Size (Avg Volume Times Open)\", \"type\": \"quantitative\"}}, \"title\": \"Top Companies\", \"width\": 800, \"$schema\": \"https://vega.github.io/schema/vega-lite/v4.17.0.json\", \"datasets\": {\"data-04b2e2ec9bc088d937d19db1d07272d8\": [{\"id\": \"V\", \"size\": 1480764.6068906942, \"company\": \"Visa Inc.\"}, {\"id\": \"AAPL\", \"size\": 13920015.96638191, \"company\": \"Apple Inc.\"}, {\"id\": \"AMD\", \"size\": 9231352.913756615, \"company\": \"Advanced Micro Devices, Inc.\"}, {\"id\": \"AMZN\", \"size\": 11511978.598657817, \"company\": \"Amazon.com, Inc.\"}, {\"id\": \"BA\", \"size\": 1598853.409724846, \"company\": \"The Boeing Company\"}, {\"id\": \"BRK-A\", \"size\": 2142385.1615698645, \"company\": \"Berkshire Hathaway Inc.\"}, {\"id\": \"GOOG\", \"size\": 3292581.483136792, \"company\": \"Alphabet Inc.\"}, {\"id\": \"JNPR\", \"size\": 1626703.1112844036, \"company\": \"Juniper Networks, Inc.\"}, {\"id\": \"JPM\", \"size\": 1704323.0778257041, \"company\": \"JPMorgan Chase & Co.\"}, {\"id\": \"MSFT\", \"size\": 6072710.356433009, \"company\": \"Microsoft Corporation\"}, {\"id\": \"NFLX\", \"size\": 2476992.057869719, \"company\": \"Netflix, Inc.\"}]}}, {\"mode\": \"vega-lite\"});\n",
       "</script>"
      ],
      "text/plain": [
       "alt.Chart(...)"
      ]
     },
     "execution_count": 92,
     "metadata": {},
     "output_type": "execute_result"
    }
   ],
   "source": [
    "size_chart = alt.Chart(size_df).mark_bar(color=\"orange\").encode(\n",
    "    x = alt.X('company', sort='-y', axis=alt.Axis(labelAngle=-45), title=\"Company\"),\n",
    "    y = alt.Y('size', title=\"Size (Avg Volume Times Open)\"),\n",
    "    text = 'size'\n",
    ").properties(width=800, title=\"Top Companies\")\n",
    "size_chart"
   ]
  }
 ],
 "metadata": {
  "kernelspec": {
   "display_name": "Python 3",
   "language": "python",
   "name": "python3"
  },
  "language_info": {
   "codemirror_mode": {
    "name": "ipython",
    "version": 3
   },
   "file_extension": ".py",
   "mimetype": "text/x-python",
   "name": "python",
   "nbconvert_exporter": "python",
   "pygments_lexer": "ipython3",
   "version": "3.10.8"
  },
  "orig_nbformat": 4
 },
 "nbformat": 4,
 "nbformat_minor": 2
}
